{
 "cells": [
  {
   "cell_type": "code",
   "execution_count": 34,
   "metadata": {},
   "outputs": [
    {
     "name": "stdout",
     "output_type": "stream",
     "text": [
      "Note: you may need to restart the kernel to use updated packages.\n"
     ]
    },
    {
     "name": "stderr",
     "output_type": "stream",
     "text": [
      "ERROR: Invalid requirement: '#==2.16.1': Expected package name at the start of dependency specifier\n",
      "    #==2.16.1\n",
      "    ^\n"
     ]
    }
   ],
   "source": [
    "pip install -q pandas matplotlib scikit-learn transformers tf-keras tensorflow #==2.16.1 "
   ]
  },
  {
   "cell_type": "code",
   "execution_count": 9,
   "metadata": {},
   "outputs": [
    {
     "name": "stderr",
     "output_type": "stream",
     "text": [
      "C:\\Users\\royle\\AppData\\Local\\Temp\\ipykernel_7292\\3178984877.py:10: SettingWithCopyWarning: \n",
      "A value is trying to be set on a copy of a slice from a DataFrame.\n",
      "Try using .loc[row_indexer,col_indexer] = value instead\n",
      "\n",
      "See the caveats in the documentation: https://pandas.pydata.org/pandas-docs/stable/user_guide/indexing.html#returning-a-view-versus-a-copy\n",
      "  filtered_df['max_predicted_aspect'] = filtered_df['max_predicted_aspect'].replace({'Product/print quality': 'Quality'})\n"
     ]
    },
    {
     "data": {
      "text/html": [
       "<div>\n",
       "<style scoped>\n",
       "    .dataframe tbody tr th:only-of-type {\n",
       "        vertical-align: middle;\n",
       "    }\n",
       "\n",
       "    .dataframe tbody tr th {\n",
       "        vertical-align: top;\n",
       "    }\n",
       "\n",
       "    .dataframe thead th {\n",
       "        text-align: right;\n",
       "    }\n",
       "</style>\n",
       "<table border=\"1\" class=\"dataframe\">\n",
       "  <thead>\n",
       "    <tr style=\"text-align: right;\">\n",
       "      <th></th>\n",
       "      <th>Survey ID</th>\n",
       "      <th>Product Name</th>\n",
       "      <th>Print Customer Region</th>\n",
       "      <th>LTR</th>\n",
       "      <th>Source Type</th>\n",
       "      <th>Survey language</th>\n",
       "      <th>Review Source</th>\n",
       "      <th>Star Rating</th>\n",
       "      <th>Product Family</th>\n",
       "      <th>Supplies Family</th>\n",
       "      <th>...</th>\n",
       "      <th>Model Name</th>\n",
       "      <th>Combined Text</th>\n",
       "      <th>Ink Supply Type</th>\n",
       "      <th>token_count</th>\n",
       "      <th>Month of Response Date</th>\n",
       "      <th>predicted_level1</th>\n",
       "      <th>predicted_probabilities</th>\n",
       "      <th>max_predicted_probability</th>\n",
       "      <th>max_predicted_level1</th>\n",
       "      <th>max_predicted_aspect</th>\n",
       "    </tr>\n",
       "  </thead>\n",
       "  <tbody>\n",
       "    <tr>\n",
       "      <th>18</th>\n",
       "      <td>110020182</td>\n",
       "      <td>HP 63 Black Original Ink Cartridge</td>\n",
       "      <td>US</td>\n",
       "      <td>10</td>\n",
       "      <td>Web Reviews</td>\n",
       "      <td>English</td>\n",
       "      <td>Walmart</td>\n",
       "      <td>5</td>\n",
       "      <td>Supplies - Ink</td>\n",
       "      <td>Dolmen Refresh</td>\n",
       "      <td>...</td>\n",
       "      <td>HP 63 Black Original Ink Cartridge</td>\n",
       "      <td>Excllent quality; easy to order, received prom...</td>\n",
       "      <td>IPH</td>\n",
       "      <td>7</td>\n",
       "      <td>Apr-24</td>\n",
       "      <td>Logistic Handling, General satisfied</td>\n",
       "      <td>['0.8352197918762199', '0.7786848755893012']</td>\n",
       "      <td>0.880666667</td>\n",
       "      <td>Brand Loyalty</td>\n",
       "      <td>Others</td>\n",
       "    </tr>\n",
       "    <tr>\n",
       "      <th>108</th>\n",
       "      <td>123460320</td>\n",
       "      <td>HP 65XL Black Original Ink Cartridge</td>\n",
       "      <td>US</td>\n",
       "      <td>10</td>\n",
       "      <td>Web Reviews</td>\n",
       "      <td>English</td>\n",
       "      <td>Walmart</td>\n",
       "      <td>5</td>\n",
       "      <td>Supplies - Ink</td>\n",
       "      <td>Dolmen Refresh</td>\n",
       "      <td>...</td>\n",
       "      <td>HP 65XL Black Original Ink Cartridge</td>\n",
       "      <td>Great price and arrived even earlier than stated.</td>\n",
       "      <td>IPH</td>\n",
       "      <td>8</td>\n",
       "      <td>Apr-24</td>\n",
       "      <td>Logistic Handling</td>\n",
       "      <td>['0.7908739113381595']</td>\n",
       "      <td>0.796588235</td>\n",
       "      <td>Brand Loyalty</td>\n",
       "      <td>Others</td>\n",
       "    </tr>\n",
       "    <tr>\n",
       "      <th>137</th>\n",
       "      <td>132417974</td>\n",
       "      <td>HP 65XL Black Original Ink Cartridge</td>\n",
       "      <td>US</td>\n",
       "      <td>10</td>\n",
       "      <td>Web Reviews</td>\n",
       "      <td>English</td>\n",
       "      <td>Walmart</td>\n",
       "      <td>5</td>\n",
       "      <td>Supplies - Ink</td>\n",
       "      <td>Dolmen Refresh</td>\n",
       "      <td>...</td>\n",
       "      <td>HP 65XL Black Original Ink Cartridge</td>\n",
       "      <td>Ink gets used up way to quickly for the price ...</td>\n",
       "      <td>IPH</td>\n",
       "      <td>40</td>\n",
       "      <td>Apr-24</td>\n",
       "      <td>Others</td>\n",
       "      <td>['0']</td>\n",
       "      <td>0.903254902</td>\n",
       "      <td>Brand Loyalty</td>\n",
       "      <td>Others</td>\n",
       "    </tr>\n",
       "  </tbody>\n",
       "</table>\n",
       "<p>3 rows × 21 columns</p>\n",
       "</div>"
      ],
      "text/plain": [
       "     Survey ID                          Product Name Print Customer Region  \\\n",
       "18   110020182    HP 63 Black Original Ink Cartridge                    US   \n",
       "108  123460320  HP 65XL Black Original Ink Cartridge                    US   \n",
       "137  132417974  HP 65XL Black Original Ink Cartridge                    US   \n",
       "\n",
       "    LTR  Source Type Survey language Review Source Star Rating  \\\n",
       "18   10  Web Reviews         English       Walmart           5   \n",
       "108  10  Web Reviews         English       Walmart           5   \n",
       "137  10  Web Reviews         English       Walmart           5   \n",
       "\n",
       "     Product Family Supplies Family  ...  \\\n",
       "18   Supplies - Ink  Dolmen Refresh  ...   \n",
       "108  Supplies - Ink  Dolmen Refresh  ...   \n",
       "137  Supplies - Ink  Dolmen Refresh  ...   \n",
       "\n",
       "                               Model Name  \\\n",
       "18     HP 63 Black Original Ink Cartridge   \n",
       "108  HP 65XL Black Original Ink Cartridge   \n",
       "137  HP 65XL Black Original Ink Cartridge   \n",
       "\n",
       "                                         Combined Text Ink Supply Type  \\\n",
       "18   Excllent quality; easy to order, received prom...             IPH   \n",
       "108  Great price and arrived even earlier than stated.             IPH   \n",
       "137  Ink gets used up way to quickly for the price ...             IPH   \n",
       "\n",
       "    token_count Month of Response Date                      predicted_level1  \\\n",
       "18            7                 Apr-24  Logistic Handling, General satisfied   \n",
       "108           8                 Apr-24                     Logistic Handling   \n",
       "137          40                 Apr-24                                Others   \n",
       "\n",
       "                          predicted_probabilities max_predicted_probability  \\\n",
       "18   ['0.8352197918762199', '0.7786848755893012']               0.880666667   \n",
       "108                        ['0.7908739113381595']               0.796588235   \n",
       "137                                         ['0']               0.903254902   \n",
       "\n",
       "    max_predicted_level1 max_predicted_aspect  \n",
       "18         Brand Loyalty               Others  \n",
       "108        Brand Loyalty               Others  \n",
       "137        Brand Loyalty               Others  \n",
       "\n",
       "[3 rows x 21 columns]"
      ]
     },
     "execution_count": 9,
     "metadata": {},
     "output_type": "execute_result"
    }
   ],
   "source": [
    "import pandas as pd\n",
    "import matplotlib.pyplot as plt\n",
    "\n",
    "# Replace 'your_file.csv' with the path to your CSV file\n",
    "df = pd.read_csv('combined_dfv2.csv', dtype=str)\n",
    "\n",
    "df = df.dropna(subset=['max_predicted_aspect', 'Combined Text'])\n",
    "\n",
    "filtered_df = df[df['Month of Response Date'] == 'Apr-24']\n",
    "filtered_df['max_predicted_aspect'] = filtered_df['max_predicted_aspect'].replace({'Product/print quality': 'Quality'})\n",
    "df_prep = filtered_df\n",
    "\n",
    "df_prep.head(3)"
   ]
  },
  {
   "cell_type": "code",
   "execution_count": 10,
   "metadata": {},
   "outputs": [
    {
     "data": {
      "image/png": "[encoded data removed]",
      "text/plain": [
       "<Figure size 640x480 with 1 Axes>"
      ]
     },
     "metadata": {},
     "output_type": "display_data"
    }
   ],
   "source": [
    "value_counts = filtered_df['max_predicted_aspect'].value_counts()\n",
    "\n",
    "# Plot horizontal bar chart\n",
    "ax = value_counts.plot(kind='barh')\n",
    "\n",
    "# Add data labels on the bars\n",
    "for i in ax.containers:\n",
    "    ax.bar_label(i)\n",
    "\n",
    "# Add labels and title\n",
    "plt.xlabel('Count')\n",
    "plt.ylabel('Category')\n",
    "plt.title('Category Counts')\n",
    "\n",
    "# Show the plot\n",
    "plt.show()\n"
   ]
  },
  {
   "cell_type": "code",
   "execution_count": 24,
   "metadata": {},
   "outputs": [
    {
     "name": "stderr",
     "output_type": "stream",
     "text": [
      "C:\\Users\\royle\\AppData\\Local\\Temp\\ipykernel_7292\\3659413152.py:4: SettingWithCopyWarning: \n",
      "A value is trying to be set on a copy of a slice from a DataFrame.\n",
      "Try using .loc[row_indexer,col_indexer] = value instead\n",
      "\n",
      "See the caveats in the documentation: https://pandas.pydata.org/pandas-docs/stable/user_guide/indexing.html#returning-a-view-versus-a-copy\n",
      "  df_prep['encoded_cat'] = df_prep['max_predicted_aspect'].astype('category').cat.codes\n"
     ]
    },
    {
     "data": {
      "text/plain": [
       "{0: 'Cost', 1: 'Instant Ink', 2: 'Others', 3: 'Quality', 4: 'Shipment'}"
      ]
     },
     "execution_count": 24,
     "metadata": {},
     "output_type": "execute_result"
    }
   ],
   "source": [
    "# Combined Text\n",
    "# max_predicted_aspect\n",
    "\n",
    "df_prep['encoded_cat'] = df_prep['max_predicted_aspect'].astype('category').cat.codes\n",
    "\n",
    "data_texts = df_prep['Combined Text'].to_list() # Features (not tokenized yet)\n",
    "data_labels = df_prep['encoded_cat'].to_list() # Labels\n",
    "\n",
    "# Get the categories and their corresponding codes\n",
    "cat_mapping = dict(enumerate(df_prep['max_predicted_aspect'].astype('category').cat.categories))\n",
    "\n",
    "cat_mapping"
   ]
  },
  {
   "cell_type": "code",
   "execution_count": 17,
   "metadata": {},
   "outputs": [
    {
     "name": "stderr",
     "output_type": "stream",
     "text": [
      "Some weights of the PyTorch model were not used when initializing the TF 2.0 model TFDistilBertForSequenceClassification: ['vocab_transform.weight', 'vocab_layer_norm.bias', 'vocab_transform.bias', 'vocab_projector.bias', 'vocab_layer_norm.weight']\n",
      "- This IS expected if you are initializing TFDistilBertForSequenceClassification from a PyTorch model trained on another task or with another architecture (e.g. initializing a TFBertForSequenceClassification model from a BertForPreTraining model).\n",
      "- This IS NOT expected if you are initializing TFDistilBertForSequenceClassification from a PyTorch model that you expect to be exactly identical (e.g. initializing a TFBertForSequenceClassification model from a BertForSequenceClassification model).\n",
      "Some weights or buffers of the TF 2.0 model TFDistilBertForSequenceClassification were not initialized from the PyTorch model and are newly initialized: ['pre_classifier.weight', 'pre_classifier.bias', 'classifier.weight', 'classifier.bias']\n",
      "You should probably TRAIN this model on a down-stream task to be able to use it for predictions and inference.\n"
     ]
    }
   ],
   "source": [
    "from sklearn.model_selection import train_test_split\n",
    " \n",
    "# Split Train and Validation data\n",
    "# train_texts, val_texts, train_labels, val_labels = train_test_split(data_texts, data_labels, test_size=0.2, random_state=0, shuffle=True)\n",
    "\n",
    "# # 100% of Data for training\n",
    "train_texts = data_texts\n",
    "train_labels = data_labels\n",
    "val_texts = data_texts\n",
    "val_labels = data_labels\n",
    " \n",
    "# Keep some data for inference (testing)\n",
    "train_texts, test_texts, train_labels, test_labels = train_test_split(train_texts, train_labels, test_size=0.01, random_state=0, shuffle=True)\n",
    "\n",
    "###############################################################################################################################################\n",
    "\n",
    "from transformers import DistilBertTokenizer\n",
    "from transformers import TFDistilBertForSequenceClassification\n",
    "import tensorflow as tf\n",
    "import pandas as pd\n",
    "\n",
    "\n",
    "tokenizer = DistilBertTokenizer.from_pretrained('distilbert-base-uncased')\n",
    "train_encodings = tokenizer(train_texts, truncation=True, padding=True)\n",
    "val_encodings = tokenizer(val_texts, truncation=True, padding=True)\n",
    "\n",
    "# Create TensorFlow Dataset\n",
    "train_dataset = tf.data.Dataset.from_tensor_slices((dict(train_encodings),train_labels))\n",
    "val_dataset = tf.data.Dataset.from_tensor_slices((dict(val_encodings),val_labels))\n",
    "\n",
    "# TFTrainer Class for Fine-tuning\n",
    "model = TFDistilBertForSequenceClassification.from_pretrained('distilbert-base-uncased', num_labels=5) \n",
    "optimizer = tf.keras.optimizers.Adam(learning_rate=5e-5, epsilon=1e-08)\n",
    "model.compile(optimizer=optimizer, loss=model.hf_compute_loss, metrics=['accuracy'])"
   ]
  },
  {
   "cell_type": "code",
   "execution_count": 14,
   "metadata": {},
   "outputs": [
    {
     "name": "stdout",
     "output_type": "stream",
     "text": [
      "Number of GPU(s): 1\n",
      "GPU Name: NVIDIA GeForce RTX 3070 Ti\n",
      "Using device: cuda\n"
     ]
    }
   ],
   "source": [
    "import torch\n",
    "\n",
    "# Check number of GPUs\n",
    "num_gpus = torch.cuda.device_count()\n",
    "print(\"Number of GPU(s):\", num_gpus)\n",
    "\n",
    "# Check GPU name\n",
    "if num_gpus > 0:\n",
    "    print(\"GPU Name:\", torch.cuda.get_device_name(0))\n",
    "else:\n",
    "    print(\"No GPU found.\")\n",
    "\n",
    "# Set device to GPU if available\n",
    "device = torch.device('cuda' if torch.cuda.is_available() else 'cpu')\n",
    "print('Using device:', device)"
   ]
  },
  {
   "cell_type": "code",
   "execution_count": 16,
   "metadata": {},
   "outputs": [
    {
     "ename": "AttributeError",
     "evalue": "'SimpleModel' object has no attribute 'fit'",
     "output_type": "error",
     "traceback": [
      "\u001b[1;31m---------------------------------------------------------------------------\u001b[0m",
      "\u001b[1;31mAttributeError\u001b[0m                            Traceback (most recent call last)",
      "Cell \u001b[1;32mIn[16], line 3\u001b[0m\n\u001b[0;32m      1\u001b[0m early_stopping \u001b[38;5;241m=\u001b[39m tf\u001b[38;5;241m.\u001b[39mkeras\u001b[38;5;241m.\u001b[39mcallbacks\u001b[38;5;241m.\u001b[39mEarlyStopping(monitor\u001b[38;5;241m=\u001b[39m\u001b[38;5;124m'\u001b[39m\u001b[38;5;124mval_loss\u001b[39m\u001b[38;5;124m'\u001b[39m, patience\u001b[38;5;241m=\u001b[39m\u001b[38;5;241m2\u001b[39m, restore_best_weights\u001b[38;5;241m=\u001b[39m\u001b[38;5;28;01mTrue\u001b[39;00m)\n\u001b[1;32m----> 3\u001b[0m \u001b[43mmodel\u001b[49m\u001b[38;5;241;43m.\u001b[39;49m\u001b[43mfit\u001b[49m(train_dataset\u001b[38;5;241m.\u001b[39mshuffle(\u001b[38;5;241m1000\u001b[39m)\u001b[38;5;241m.\u001b[39mbatch(\u001b[38;5;241m16\u001b[39m),\n\u001b[0;32m      4\u001b[0m epochs\u001b[38;5;241m=\u001b[39m\u001b[38;5;241m5\u001b[39m,\n\u001b[0;32m      5\u001b[0m batch_size\u001b[38;5;241m=\u001b[39m\u001b[38;5;241m16\u001b[39m,\n\u001b[0;32m      6\u001b[0m validation_data\u001b[38;5;241m=\u001b[39mval_dataset\u001b[38;5;241m.\u001b[39mshuffle(\u001b[38;5;241m1000\u001b[39m)\u001b[38;5;241m.\u001b[39mbatch(\u001b[38;5;241m16\u001b[39m),\n\u001b[0;32m      7\u001b[0m callbacks\u001b[38;5;241m=\u001b[39m[early_stopping]\n\u001b[0;32m      8\u001b[0m )\n",
      "File \u001b[1;32m~\\AppData\\Local\\Packages\\PythonSoftwareFoundation.Python.3.11_qbz5n2kfra8p0\\LocalCache\\local-packages\\Python311\\site-packages\\torch\\nn\\modules\\module.py:1729\u001b[0m, in \u001b[0;36mModule.__getattr__\u001b[1;34m(self, name)\u001b[0m\n\u001b[0;32m   1727\u001b[0m     \u001b[38;5;28;01mif\u001b[39;00m name \u001b[38;5;129;01min\u001b[39;00m modules:\n\u001b[0;32m   1728\u001b[0m         \u001b[38;5;28;01mreturn\u001b[39;00m modules[name]\n\u001b[1;32m-> 1729\u001b[0m \u001b[38;5;28;01mraise\u001b[39;00m \u001b[38;5;167;01mAttributeError\u001b[39;00m(\u001b[38;5;124mf\u001b[39m\u001b[38;5;124m\"\u001b[39m\u001b[38;5;124m'\u001b[39m\u001b[38;5;132;01m{\u001b[39;00m\u001b[38;5;28mtype\u001b[39m(\u001b[38;5;28mself\u001b[39m)\u001b[38;5;241m.\u001b[39m\u001b[38;5;18m__name__\u001b[39m\u001b[38;5;132;01m}\u001b[39;00m\u001b[38;5;124m'\u001b[39m\u001b[38;5;124m object has no attribute \u001b[39m\u001b[38;5;124m'\u001b[39m\u001b[38;5;132;01m{\u001b[39;00mname\u001b[38;5;132;01m}\u001b[39;00m\u001b[38;5;124m'\u001b[39m\u001b[38;5;124m\"\u001b[39m)\n",
      "\u001b[1;31mAttributeError\u001b[0m: 'SimpleModel' object has no attribute 'fit'"
     ]
    }
   ],
   "source": [
    "early_stopping = tf.keras.callbacks.EarlyStopping(monitor='val_loss', patience=2, restore_best_weights=True)\n",
    " \n",
    "model.fit(train_dataset.shuffle(1000).batch(16),\n",
    "epochs=5,\n",
    "batch_size=16,\n",
    "validation_data=val_dataset.shuffle(1000).batch(16),\n",
    "callbacks=[early_stopping]\n",
    ")\n"
   ]
  },
  {
   "cell_type": "code",
   "execution_count": 37,
   "metadata": {},
   "outputs": [
    {
     "name": "stderr",
     "output_type": "stream",
     "text": [
      "C:\\Users\\royle\\AppData\\Local\\Packages\\PythonSoftwareFoundation.Python.3.11_qbz5n2kfra8p0\\LocalCache\\local-packages\\Python311\\site-packages\\transformers\\tokenization_utils_base.py:1601: FutureWarning: `clean_up_tokenization_spaces` was not set. It will be set to `True` by default. This behavior will be deprecated in transformers v4.45, and will be then set to `False` by default. For more details check this issue: https://github.com/huggingface/transformers/issues/31884\n",
      "  warnings.warn(\n",
      "Some weights of DistilBertForSequenceClassification were not initialized from the model checkpoint at distilbert-base-uncased and are newly initialized: ['classifier.bias', 'classifier.weight', 'pre_classifier.bias', 'pre_classifier.weight']\n",
      "You should probably TRAIN this model on a down-stream task to be able to use it for predictions and inference.\n",
      "C:\\Users\\royle\\AppData\\Local\\Packages\\PythonSoftwareFoundation.Python.3.11_qbz5n2kfra8p0\\LocalCache\\local-packages\\Python311\\site-packages\\transformers\\optimization.py:591: FutureWarning: This implementation of AdamW is deprecated and will be removed in a future version. Use the PyTorch implementation torch.optim.AdamW instead, or set `no_deprecation_warning=True` to disable this warning\n",
      "  warnings.warn(\n",
      "C:\\Users\\royle\\AppData\\Local\\Packages\\PythonSoftwareFoundation.Python.3.11_qbz5n2kfra8p0\\LocalCache\\local-packages\\Python311\\site-packages\\transformers\\training_args.py:1527: FutureWarning: `evaluation_strategy` is deprecated and will be removed in version 4.46 of 🤗 Transformers. Use `eval_strategy` instead\n",
      "  warnings.warn(\n"
     ]
    },
    {
     "data": {
      "application/vnd.jupyter.widget-view+json": {
       "model_id": "b23138e90b884f4ab36626a343b01218",
       "version_major": 2,
       "version_minor": 0
      },
      "text/plain": [
       "  0%|          | 0/2545 [00:00<?, ?it/s]"
      ]
     },
     "metadata": {},
     "output_type": "display_data"
    },
    {
     "ename": "KeyboardInterrupt",
     "evalue": "",
     "output_type": "error",
     "traceback": [
      "\u001b[1;31m---------------------------------------------------------------------------\u001b[0m",
      "\u001b[1;31mKeyboardInterrupt\u001b[0m                         Traceback (most recent call last)",
      "Cell \u001b[1;32mIn[37], line 81\u001b[0m\n\u001b[0;32m     72\u001b[0m trainer \u001b[38;5;241m=\u001b[39m Trainer(\n\u001b[0;32m     73\u001b[0m     model\u001b[38;5;241m=\u001b[39mmodel,\n\u001b[0;32m     74\u001b[0m     args\u001b[38;5;241m=\u001b[39mtraining_args,\n\u001b[1;32m   (...)\u001b[0m\n\u001b[0;32m     77\u001b[0m     compute_metrics\u001b[38;5;241m=\u001b[39mcompute_metrics  \u001b[38;5;66;03m# Pass the function here\u001b[39;00m\n\u001b[0;32m     78\u001b[0m )\n\u001b[0;32m     80\u001b[0m \u001b[38;5;66;03m# Train the model\u001b[39;00m\n\u001b[1;32m---> 81\u001b[0m \u001b[43mtrainer\u001b[49m\u001b[38;5;241;43m.\u001b[39;49m\u001b[43mtrain\u001b[49m\u001b[43m(\u001b[49m\u001b[43m)\u001b[49m\n",
      "File \u001b[1;32m~\\AppData\\Local\\Packages\\PythonSoftwareFoundation.Python.3.11_qbz5n2kfra8p0\\LocalCache\\local-packages\\Python311\\site-packages\\transformers\\trainer.py:1955\u001b[0m, in \u001b[0;36mTrainer.train\u001b[1;34m(self, resume_from_checkpoint, trial, ignore_keys_for_eval, **kwargs)\u001b[0m\n\u001b[0;32m   1953\u001b[0m         hf_hub_utils\u001b[38;5;241m.\u001b[39menable_progress_bars()\n\u001b[0;32m   1954\u001b[0m \u001b[38;5;28;01melse\u001b[39;00m:\n\u001b[1;32m-> 1955\u001b[0m     \u001b[38;5;28;01mreturn\u001b[39;00m \u001b[43minner_training_loop\u001b[49m\u001b[43m(\u001b[49m\n\u001b[0;32m   1956\u001b[0m \u001b[43m        \u001b[49m\u001b[43margs\u001b[49m\u001b[38;5;241;43m=\u001b[39;49m\u001b[43margs\u001b[49m\u001b[43m,\u001b[49m\n\u001b[0;32m   1957\u001b[0m \u001b[43m        \u001b[49m\u001b[43mresume_from_checkpoint\u001b[49m\u001b[38;5;241;43m=\u001b[39;49m\u001b[43mresume_from_checkpoint\u001b[49m\u001b[43m,\u001b[49m\n\u001b[0;32m   1958\u001b[0m \u001b[43m        \u001b[49m\u001b[43mtrial\u001b[49m\u001b[38;5;241;43m=\u001b[39;49m\u001b[43mtrial\u001b[49m\u001b[43m,\u001b[49m\n\u001b[0;32m   1959\u001b[0m \u001b[43m        \u001b[49m\u001b[43mignore_keys_for_eval\u001b[49m\u001b[38;5;241;43m=\u001b[39;49m\u001b[43mignore_keys_for_eval\u001b[49m\u001b[43m,\u001b[49m\n\u001b[0;32m   1960\u001b[0m \u001b[43m    \u001b[49m\u001b[43m)\u001b[49m\n",
      "File \u001b[1;32m~\\AppData\\Local\\Packages\\PythonSoftwareFoundation.Python.3.11_qbz5n2kfra8p0\\LocalCache\\local-packages\\Python311\\site-packages\\transformers\\trainer.py:2301\u001b[0m, in \u001b[0;36mTrainer._inner_training_loop\u001b[1;34m(self, batch_size, args, resume_from_checkpoint, trial, ignore_keys_for_eval)\u001b[0m\n\u001b[0;32m   2295\u001b[0m \u001b[38;5;28;01mwith\u001b[39;00m \u001b[38;5;28mself\u001b[39m\u001b[38;5;241m.\u001b[39maccelerator\u001b[38;5;241m.\u001b[39maccumulate(model):\n\u001b[0;32m   2296\u001b[0m     tr_loss_step \u001b[38;5;241m=\u001b[39m \u001b[38;5;28mself\u001b[39m\u001b[38;5;241m.\u001b[39mtraining_step(model, inputs)\n\u001b[0;32m   2298\u001b[0m \u001b[38;5;28;01mif\u001b[39;00m (\n\u001b[0;32m   2299\u001b[0m     args\u001b[38;5;241m.\u001b[39mlogging_nan_inf_filter\n\u001b[0;32m   2300\u001b[0m     \u001b[38;5;129;01mand\u001b[39;00m \u001b[38;5;129;01mnot\u001b[39;00m is_torch_xla_available()\n\u001b[1;32m-> 2301\u001b[0m     \u001b[38;5;129;01mand\u001b[39;00m (torch\u001b[38;5;241m.\u001b[39misnan(tr_loss_step) \u001b[38;5;129;01mor\u001b[39;00m \u001b[43mtorch\u001b[49m\u001b[38;5;241;43m.\u001b[39;49m\u001b[43misinf\u001b[49m\u001b[43m(\u001b[49m\u001b[43mtr_loss_step\u001b[49m\u001b[43m)\u001b[49m)\n\u001b[0;32m   2302\u001b[0m ):\n\u001b[0;32m   2303\u001b[0m     \u001b[38;5;66;03m# if loss is nan or inf simply add the average of previous logged losses\u001b[39;00m\n\u001b[0;32m   2304\u001b[0m     tr_loss \u001b[38;5;241m+\u001b[39m\u001b[38;5;241m=\u001b[39m tr_loss \u001b[38;5;241m/\u001b[39m (\u001b[38;5;241m1\u001b[39m \u001b[38;5;241m+\u001b[39m \u001b[38;5;28mself\u001b[39m\u001b[38;5;241m.\u001b[39mstate\u001b[38;5;241m.\u001b[39mglobal_step \u001b[38;5;241m-\u001b[39m \u001b[38;5;28mself\u001b[39m\u001b[38;5;241m.\u001b[39m_globalstep_last_logged)\n\u001b[0;32m   2305\u001b[0m \u001b[38;5;28;01melse\u001b[39;00m:\n",
      "\u001b[1;31mKeyboardInterrupt\u001b[0m: "
     ]
    }
   ],
   "source": [
    "import torch\n",
    "from transformers import DistilBertTokenizer, DistilBertForSequenceClassification\n",
    "from torch.utils.data import Dataset, DataLoader\n",
    "from transformers import AdamW\n",
    "from transformers import Trainer, TrainingArguments\n",
    "from sklearn.metrics import accuracy_score\n",
    "\n",
    "# Load the tokenizer\n",
    "tokenizer = DistilBertTokenizer.from_pretrained('distilbert-base-uncased')\n",
    "\n",
    "# # 100% of Data for training\n",
    "train_texts = data_texts\n",
    "train_labels = data_labels\n",
    "val_texts = data_texts\n",
    "val_labels = data_labels\n",
    "\n",
    "# Tokenize the training and validation texts\n",
    "train_encodings = tokenizer(train_texts, truncation=True, padding=True, return_tensors='pt')\n",
    "val_encodings = tokenizer(val_texts, truncation=True, padding=True, return_tensors='pt')\n",
    "\n",
    "# Create a PyTorch Dataset\n",
    "class TextDataset(Dataset):\n",
    "    def __init__(self, encodings, labels):\n",
    "        self.encodings = encodings\n",
    "        self.labels = labels\n",
    "\n",
    "    def __getitem__(self, idx):\n",
    "        item = {key: val[idx] for key, val in self.encodings.items()}\n",
    "        item['labels'] = torch.tensor(self.labels[idx])  # Ensure labels are tensors\n",
    "        return item\n",
    "\n",
    "    def __len__(self):\n",
    "        return len(self.labels)\n",
    "\n",
    "train_dataset = TextDataset(train_encodings, train_labels)\n",
    "val_dataset = TextDataset(val_encodings, val_labels)\n",
    "\n",
    "# Set device\n",
    "device = torch.device(\"cuda\" if gpu_available else \"cpu\")\n",
    "\n",
    "# Load the model\n",
    "model = DistilBertForSequenceClassification.from_pretrained('distilbert-base-uncased', num_labels=5)\n",
    "model.to(device)\n",
    "\n",
    "# Define the optimizer\n",
    "optimizer = AdamW(model.parameters(), lr=5e-5)\n",
    "\n",
    "# Define training arguments\n",
    "training_args = TrainingArguments(\n",
    "    output_dir='./results',          # output directory\n",
    "    num_train_epochs=5,              # total number of training epochs\n",
    "    per_device_train_batch_size=16,  # batch size per device during training\n",
    "    per_device_eval_batch_size=16,   # batch size for evaluation\n",
    "    warmup_steps=500,                 # number of warmup steps for learning rate scheduler\n",
    "    weight_decay=0.01,               # strength of weight decay\n",
    "    logging_dir='./logs',            # directory for storing logs\n",
    "    evaluation_strategy=\"epoch\",     # evaluate every epoch\n",
    "    save_strategy=\"epoch\",           # save model every epoch\n",
    "    load_best_model_at_end=True,     # load the best model at the end\n",
    ")\n",
    "\n",
    "# Define compute_metrics function to calculate accuracy\n",
    "def compute_metrics(pred):\n",
    "    labels = pred.label_ids\n",
    "    preds = np.argmax(pred.predictions, axis=1)\n",
    "    acc = accuracy_score(labels, preds)\n",
    "    return {\n",
    "        'accuracy': acc\n",
    "    }\n",
    "\n",
    "# Create a Trainer instance\n",
    "trainer = Trainer(\n",
    "    model=model,\n",
    "    args=training_args,\n",
    "    train_dataset=train_dataset,\n",
    "    eval_dataset=val_dataset,\n",
    "    compute_metrics=compute_metrics  # Pass the function here\n",
    ")\n",
    "\n",
    "# Train the model\n",
    "trainer.train()"
   ]
  },
  {
   "cell_type": "code",
   "execution_count": 34,
   "metadata": {},
   "outputs": [
    {
     "data": {
      "text/plain": [
       "('./distilbert aspect classification\\\\tokenizer_config.json',\n",
       " './distilbert aspect classification\\\\special_tokens_map.json',\n",
       " './distilbert aspect classification\\\\vocab.txt',\n",
       " './distilbert aspect classification\\\\added_tokens.json')"
      ]
     },
     "execution_count": 34,
     "metadata": {},
     "output_type": "execute_result"
    }
   ],
   "source": [
    "# Save the model, tokenizer, and training arguments to the output directory\n",
    "model.save_pretrained('./distilbert aspect classification')\n",
    "tokenizer.save_pretrained('./distilbert aspect classification')\n",
    "# training_args.save('./final_model')\n"
   ]
  },
  {
   "cell_type": "code",
   "execution_count": 35,
   "metadata": {},
   "outputs": [
    {
     "name": "stdout",
     "output_type": "stream",
     "text": [
      "Predicted label: 3\n",
      "Predicted category: Quality\n"
     ]
    }
   ],
   "source": [
    "from transformers import DistilBertForSequenceClassification, DistilBertTokenizer\n",
    "\n",
    "# Load the saved model and tokenizer\n",
    "model = DistilBertForSequenceClassification.from_pretrained('./distilbert aspect classification')\n",
    "tokenizer = DistilBertTokenizer.from_pretrained('./distilbert aspect classification')\n",
    "\n",
    "# (Optional) Move the model to GPU if available\n",
    "device = torch.device(\"cuda\" if torch.cuda.is_available() else \"cpu\")\n",
    "model.to(device)\n",
    "\n",
    "# Single test sentence\n",
    "test_sentence = \"colors were vibrant\"\n",
    "\n",
    "# Tokenize the input sentence\n",
    "inputs = tokenizer(test_sentence, return_tensors=\"pt\", truncation=True, padding=True)\n",
    "\n",
    "# Move inputs to the same device as the model\n",
    "inputs = {k: v.to(model.device) for k, v in inputs.items()}\n",
    "\n",
    "# Model inference (prediction)\n",
    "with torch.no_grad():\n",
    "    outputs = model(**inputs)\n",
    "    logits = outputs.logits\n",
    "\n",
    "# Get predicted label (numerical)\n",
    "pred_label = torch.argmax(logits, dim=1).item()\n",
    "\n",
    "# Map the predicted label to the original category using category_dict\n",
    "predicted_category = cat_mapping[pred_label]\n",
    "\n",
    "# Print the predicted label and the category title\n",
    "print(f\"Predicted label: {pred_label}\")\n",
    "print(f\"Predicted category: {predicted_category}\")"
   ]
  },
  {
   "cell_type": "code",
   "execution_count": 36,
   "metadata": {},
   "outputs": [
    {
     "data": {
      "image/png": "[encoded data removed]",
      "text/plain": [
       "<Figure size 1200x600 with 2 Axes>"
      ]
     },
     "metadata": {},
     "output_type": "display_data"
    }
   ],
   "source": [
    "import matplotlib.pyplot as plt\n",
    "\n",
    "# Extract the logs\n",
    "history = trainer.state.log_history\n",
    "\n",
    "# Extract loss and accuracy for both training and validation\n",
    "train_loss = [entry['loss'] for entry in history if 'loss' in entry]\n",
    "val_loss = [entry['eval_loss'] for entry in history if 'eval_loss' in entry]\n",
    "train_acc = [entry['accuracy'] for entry in history if 'accuracy' in entry]\n",
    "val_acc = [entry['eval_accuracy'] for entry in history if 'eval_accuracy' in entry]\n",
    "\n",
    "# Plot loss curve\n",
    "plt.figure(figsize=(12, 6))\n",
    "\n",
    "plt.subplot(1, 2, 1)\n",
    "plt.plot(train_loss, label='Training Loss')\n",
    "plt.plot(val_loss, label='Validation Loss')\n",
    "plt.title('Loss Curve')\n",
    "plt.xlabel('Epochs')\n",
    "plt.ylabel('Loss')\n",
    "plt.legend()\n",
    "\n",
    "# Plot accuracy curve (if available)\n",
    "plt.subplot(1, 2, 2)\n",
    "if train_acc and val_acc:  # Check if accuracy is available\n",
    "    plt.plot(train_acc, label='Training Accuracy')\n",
    "    plt.plot(val_acc, label='Validation Accuracy')\n",
    "    plt.title('Accuracy Curve')\n",
    "    plt.xlabel('Epochs')\n",
    "    plt.ylabel('Accuracy')\n",
    "    plt.legend()\n",
    "\n",
    "plt.show()"
   ]
  }
 ],
 "metadata": {
  "kernelspec": {
   "display_name": "Python 3",
   "language": "python",
   "name": "python3"
  },
  "language_info": {
   "codemirror_mode": {
    "name": "ipython",
    "version": 3
   },
   "file_extension": ".py",
   "mimetype": "text/x-python",
   "name": "python",
   "nbconvert_exporter": "python",
   "pygments_lexer": "ipython3",
   "version": "3.11.9"
  }
 },
 "nbformat": 4,
 "nbformat_minor": 2
}
