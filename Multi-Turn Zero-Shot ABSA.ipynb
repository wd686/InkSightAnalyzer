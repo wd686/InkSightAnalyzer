{
 "cells": [
  {
   "cell_type": "code",
   "execution_count": 1,
   "metadata": {},
   "outputs": [],
   "source": [
    "# Multi-turn Zero-shot ABSA on \n",
    "# my_env\n",
    "\n",
    "import pandas as pd\n",
    "import numpy as np\n",
    "import torch\n",
    "from datasets import Dataset"
   ]
  },
  {
   "cell_type": "code",
   "execution_count": 2,
   "metadata": {},
   "outputs": [
    {
     "name": "stdout",
     "output_type": "stream",
     "text": [
      "WARNING:tensorflow:From C:\\Users\\royle\\AppData\\Local\\Packages\\PythonSoftwareFoundation.Python.3.11_qbz5n2kfra8p0\\LocalCache\\local-packages\\Python311\\site-packages\\tf_keras\\src\\losses.py:2976: The name tf.losses.sparse_softmax_cross_entropy is deprecated. Please use tf.compat.v1.losses.sparse_softmax_cross_entropy instead.\n",
      "\n"
     ]
    },
    {
     "name": "stderr",
     "output_type": "stream",
     "text": [
      "C:\\Users\\royle\\AppData\\Local\\Packages\\PythonSoftwareFoundation.Python.3.11_qbz5n2kfra8p0\\LocalCache\\local-packages\\Python311\\site-packages\\transformers\\tokenization_utils_base.py:1601: FutureWarning: `clean_up_tokenization_spaces` was not set. It will be set to `True` by default. This behavior will be deprecated in transformers v4.45, and will be then set to `False` by default. For more details check this issue: https://github.com/huggingface/transformers/issues/31884\n",
      "  warnings.warn(\n"
     ]
    }
   ],
   "source": [
    "from transformers import pipeline\n",
    "\n",
    "device = 'cuda' if torch.cuda.is_available() else 'cpu'\n",
    "\n",
    "# pipeline for Zero-Shot Classification w NLI (NLI), better to identify keywords for candidate_labels\n",
    "# nli1: facebook/bart-large-mnli -> # https://huggingface.co/facebook/bart-large-mnli?library=transformers\n",
    "# nli2: MoritzLaurer/DeBERTa-v3-base-mnli-fever-anli -> # https://huggingface.co/MoritzLaurer/DeBERTa-v3-base-mnli-fever-anli?library=transformers\n",
    "# nli3: cross-encoder/nli-roberta-base -> # https://huggingface.co/cross-encoder/nli-roberta-base?library=transformers\n",
    "\n",
    "nli1 = pipeline(\"zero-shot-classification\", model=\"facebook/bart-large-mnli\", device=device)\n",
    "nli2 = pipeline(\"zero-shot-classification\", model=\"MoritzLaurer/DeBERTa-v3-base-mnli-fever-anli\", device=device)\n",
    "nli3 = pipeline(\"zero-shot-classification\", model=\"cross-encoder/nli-roberta-base\", device=device)\n"
   ]
  },
  {
   "cell_type": "code",
   "execution_count": 25,
   "metadata": {},
   "outputs": [
    {
     "data": {
      "text/plain": [
       "4306"
      ]
     },
     "execution_count": 25,
     "metadata": {},
     "output_type": "execute_result"
    }
   ],
   "source": [
    "df = pd.read_csv('combined_dfv4.csv')\n",
    "\n",
    "# Define the aspect columns to check\n",
    "aspect_columns = ['aspect_Cost', 'aspect_Instant Ink', 'aspect_Quality', 'aspect_Services', 'aspect_Shipment']\n",
    "\n",
    "# Filter the DataFrame\n",
    "reviews = df[\n",
    "    (df['Survey language'] == 'English') &\n",
    "    (df['Month of Response Date'] == \"Apr-24\") &\n",
    "    (df[aspect_columns].sum(axis=1) != 0)  # Check if the sum of the aspect columns is not zero\n",
    "][['Survey ID', 'Combined Text']]\n",
    "\n",
    "len(reviews)"
   ]
  },
  {
   "cell_type": "code",
   "execution_count": 10,
   "metadata": {},
   "outputs": [
    {
     "data": {
      "application/vnd.jupyter.widget-view+json": {
       "model_id": "c09729abd4644f46b4a6cb43e3332ba8",
       "version_major": 2,
       "version_minor": 0
      },
      "text/plain": [
       "Map:   0%|          | 0/10 [00:00<?, ? examples/s]"
      ]
     },
     "metadata": {},
     "output_type": "display_data"
    },
    {
     "data": {
      "text/html": [
       "<div>\n",
       "<style scoped>\n",
       "    .dataframe tbody tr th:only-of-type {\n",
       "        vertical-align: middle;\n",
       "    }\n",
       "\n",
       "    .dataframe tbody tr th {\n",
       "        vertical-align: top;\n",
       "    }\n",
       "\n",
       "    .dataframe thead th {\n",
       "        text-align: right;\n",
       "    }\n",
       "</style>\n",
       "<table border=\"1\" class=\"dataframe\">\n",
       "  <thead>\n",
       "    <tr style=\"text-align: right;\">\n",
       "      <th></th>\n",
       "      <th>Survey ID</th>\n",
       "      <th>cat</th>\n",
       "      <th>polarity</th>\n",
       "      <th>polarity_score</th>\n",
       "      <th>sentence</th>\n",
       "    </tr>\n",
       "  </thead>\n",
       "  <tbody>\n",
       "    <tr>\n",
       "      <th>0</th>\n",
       "      <td>110020182</td>\n",
       "      <td>Instant Ink</td>\n",
       "      <td>positive</td>\n",
       "      <td>0.994894</td>\n",
       "      <td>Excllent quality; easy to order, received prom...</td>\n",
       "    </tr>\n",
       "    <tr>\n",
       "      <th>1</th>\n",
       "      <td>110020182</td>\n",
       "      <td>Quality</td>\n",
       "      <td>positive</td>\n",
       "      <td>0.994894</td>\n",
       "      <td>Excllent quality; easy to order, received prom...</td>\n",
       "    </tr>\n",
       "    <tr>\n",
       "      <th>2</th>\n",
       "      <td>110020182</td>\n",
       "      <td>Shipment</td>\n",
       "      <td>positive</td>\n",
       "      <td>0.994894</td>\n",
       "      <td>Excllent quality; easy to order, received prom...</td>\n",
       "    </tr>\n",
       "    <tr>\n",
       "      <th>3</th>\n",
       "      <td>123460320</td>\n",
       "      <td>General</td>\n",
       "      <td>positive</td>\n",
       "      <td>0.985882</td>\n",
       "      <td>Great price and arrived even earlier than stated.</td>\n",
       "    </tr>\n",
       "    <tr>\n",
       "      <th>4</th>\n",
       "      <td>133472112</td>\n",
       "      <td>Cost</td>\n",
       "      <td>positive</td>\n",
       "      <td>0.930847</td>\n",
       "      <td>Price competitive with other sources, but deli...</td>\n",
       "    </tr>\n",
       "    <tr>\n",
       "      <th>5</th>\n",
       "      <td>133472112</td>\n",
       "      <td>Quality</td>\n",
       "      <td>positive</td>\n",
       "      <td>0.930847</td>\n",
       "      <td>Price competitive with other sources, but deli...</td>\n",
       "    </tr>\n",
       "    <tr>\n",
       "      <th>6</th>\n",
       "      <td>133472112</td>\n",
       "      <td>Shipment</td>\n",
       "      <td>positive</td>\n",
       "      <td>0.930847</td>\n",
       "      <td>Price competitive with other sources, but deli...</td>\n",
       "    </tr>\n",
       "    <tr>\n",
       "      <th>7</th>\n",
       "      <td>134550233</td>\n",
       "      <td>General</td>\n",
       "      <td>negative</td>\n",
       "      <td>0.901488</td>\n",
       "      <td>Don't know. Never received my order</td>\n",
       "    </tr>\n",
       "    <tr>\n",
       "      <th>8</th>\n",
       "      <td>134626563</td>\n",
       "      <td>Quality</td>\n",
       "      <td>positive</td>\n",
       "      <td>0.928483</td>\n",
       "      <td>[This review was collected as part of a promot...</td>\n",
       "    </tr>\n",
       "    <tr>\n",
       "      <th>9</th>\n",
       "      <td>172491173</td>\n",
       "      <td>Instant Ink</td>\n",
       "      <td>positive</td>\n",
       "      <td>0.957588</td>\n",
       "      <td>I am so pleased with the supply of ink in this...</td>\n",
       "    </tr>\n",
       "  </tbody>\n",
       "</table>\n",
       "</div>"
      ],
      "text/plain": [
       "   Survey ID          cat  polarity  polarity_score  \\\n",
       "0  110020182  Instant Ink  positive        0.994894   \n",
       "1  110020182      Quality  positive        0.994894   \n",
       "2  110020182     Shipment  positive        0.994894   \n",
       "3  123460320      General  positive        0.985882   \n",
       "4  133472112         Cost  positive        0.930847   \n",
       "5  133472112      Quality  positive        0.930847   \n",
       "6  133472112     Shipment  positive        0.930847   \n",
       "7  134550233      General  negative        0.901488   \n",
       "8  134626563      Quality  positive        0.928483   \n",
       "9  172491173  Instant Ink  positive        0.957588   \n",
       "\n",
       "                                            sentence  \n",
       "0  Excllent quality; easy to order, received prom...  \n",
       "1  Excllent quality; easy to order, received prom...  \n",
       "2  Excllent quality; easy to order, received prom...  \n",
       "3  Great price and arrived even earlier than stated.  \n",
       "4  Price competitive with other sources, but deli...  \n",
       "5  Price competitive with other sources, but deli...  \n",
       "6  Price competitive with other sources, but deli...  \n",
       "7                Don't know. Never received my order  \n",
       "8  [This review was collected as part of a promot...  \n",
       "9  I am so pleased with the supply of ink in this...  "
      ]
     },
     "execution_count": 10,
     "metadata": {},
     "output_type": "execute_result"
    }
   ],
   "source": [
    "from datasets import Dataset\n",
    "import pandas as pd\n",
    "\n",
    "# Select the NLI model to use\n",
    "nli = nli1\n",
    "\n",
    "# Define categories\n",
    "cats = ['Cost', 'Instant Ink', 'Others', 'Quality', 'Shipment']\n",
    "\n",
    "# Prepare the dataset for efficient batch processing\n",
    "reviews_dataset = Dataset.from_pandas(reviews[['Survey ID', 'Combined Text']])  # Create a Hugging Face Dataset with 'Survey ID' and 'Combined Text'\n",
    "\n",
    "# Define a function to process each review and classify categories and sentiment\n",
    "def process_review(batch):\n",
    "    batch_results = []  # Store results for each batch\n",
    "    \n",
    "    for survey_id, s in zip(batch['Survey ID'], batch['Combined Text']):\n",
    "        labels = []\n",
    "\n",
    "        # Find applicable categories\n",
    "        for c in cats:\n",
    "            yes = f\"It's a comment on {c}\"\n",
    "            no = f\"It's not a comment on {c}\"\n",
    "            res = nli(s, candidate_labels=[yes, no])\n",
    "            label = res['labels'][0]\n",
    "            if res['scores'][0] >= 0.9 and \"not\" not in label:\n",
    "                labels.append(c)\n",
    "\n",
    "        # If no specific category is detected, assign \"General\"\n",
    "        if not labels:\n",
    "            labels.append('General')\n",
    "\n",
    "        # Determine the polarity for each detected category (only positive or negative)\n",
    "        review_results = []  # Temporary store for each sentence's result\n",
    "        for l in labels:\n",
    "            # Directly use 'positive' and 'negative' without creating additional strings\n",
    "            res2 = nli(s, candidate_labels=['positive', 'neutral', 'negative'])\n",
    "            polarity = res2['labels'][0]  # Directly get 'positive' or 'negative'\n",
    "            \n",
    "            review_results.append({\n",
    "                \"Survey ID\": survey_id,  # Include Survey ID in the results\n",
    "                \"sentence\": s,\n",
    "                \"cat\": l,\n",
    "                \"polarity\": polarity,  # Store polarity directly as 'positive' or 'negative'\n",
    "                \"polarity_score\": res2['scores'][0]\n",
    "            })\n",
    "        \n",
    "        # Append review_results for this sentence to batch_results\n",
    "        batch_results.append(review_results)\n",
    "    \n",
    "    return {\"results\": batch_results}\n",
    "\n",
    "# Apply the function to the dataset and process in batches\n",
    "processed_results = reviews_dataset.map(lambda batch: process_review(batch), batched=True)\n",
    "\n",
    "# Flatten the results list to avoid ArrowInvalid error (if each review has multiple labels)\n",
    "flat_results = [item for sublist in processed_results[\"results\"] for item in sublist]\n",
    "\n",
    "# Convert the processed flattened results into a pandas DataFrame\n",
    "df_results = pd.DataFrame(flat_results)\n",
    "output_path = 'Multi-Turn Zero-Shot ABSA/nli1_df_results.csv'  # Replace 'your/path/here' with the actual file path\n",
    "df_results.to_csv(output_path, index=False)\n",
    "\n",
    "df_results.head(10)\n"
   ]
  },
  {
   "cell_type": "code",
   "execution_count": 26,
   "metadata": {},
   "outputs": [
    {
     "data": {
      "application/vnd.jupyter.widget-view+json": {
       "model_id": "b9c6da30644348d29d55f1b10a4ec2db",
       "version_major": 2,
       "version_minor": 0
      },
      "text/plain": [
       "Map:   0%|          | 0/4306 [00:00<?, ? examples/s]"
      ]
     },
     "metadata": {},
     "output_type": "display_data"
    },
    {
     "data": {
      "application/vnd.jupyter.widget-view+json": {
       "model_id": "20805801ebf64f82bba2c2885a17eb6d",
       "version_major": 2,
       "version_minor": 0
      },
      "text/plain": [
       "Map:   0%|          | 0/4306 [00:00<?, ? examples/s]"
      ]
     },
     "metadata": {},
     "output_type": "display_data"
    },
    {
     "data": {
      "application/vnd.jupyter.widget-view+json": {
       "model_id": "970b08c8d3a549b983e49a8d44ed9567",
       "version_major": 2,
       "version_minor": 0
      },
      "text/plain": [
       "Map:   0%|          | 0/4306 [00:00<?, ? examples/s]"
      ]
     },
     "metadata": {},
     "output_type": "display_data"
    }
   ],
   "source": [
    "# Define the list of NLI models to use\n",
    "nli_models = [nli1, nli2, nli3]\n",
    "model_names = ['nli1', 'nli2', 'nli3']\n",
    "\n",
    "# Define categories\n",
    "cats = ['Cost', 'Instant Ink', 'Others', 'Quality', 'Shipment']\n",
    "\n",
    "# Prepare the dataset for efficient batch processing\n",
    "reviews_dataset = Dataset.from_pandas(reviews[['Survey ID', 'Combined Text']])  # Create a Hugging Face Dataset with 'Survey ID' and 'Combined Text'\n",
    "\n",
    "# Define a function to process each review and classify categories and sentiment\n",
    "def process_review(batch, nli):\n",
    "    batch_results = []  # Store results for each batch\n",
    "    \n",
    "    for survey_id, s in zip(batch['Survey ID'], batch['Combined Text']):\n",
    "        labels = []\n",
    "\n",
    "        # Find applicable categories\n",
    "        for c in cats:\n",
    "            yes = f\"It's a comment on {c}\"\n",
    "            no = f\"It's not a comment on {c}\"\n",
    "            res = nli(s, candidate_labels=[yes, no])\n",
    "            label = res['labels'][0]\n",
    "            if res['scores'][0] >= 0.9 and \"not\" not in label:\n",
    "                labels.append(c)\n",
    "\n",
    "        # If no specific category is detected, assign \"General\"\n",
    "        if not labels:\n",
    "            labels.append('General')\n",
    "\n",
    "        # Determine the polarity for each detected category (only positive or negative)\n",
    "        review_results = []  # Temporary store for each sentence's result\n",
    "        for l in labels:\n",
    "            # Directly use 'positive' and 'negative' without creating additional strings\n",
    "            res2 = nli(s, candidate_labels=['positive', 'neutral', 'negative'])\n",
    "            polarity = res2['labels'][0]  # Directly get 'positive' or 'negative'\n",
    "            \n",
    "            review_results.append({\n",
    "                \"Survey ID\": survey_id,  # Include Survey ID in the results\n",
    "                \"sentence\": s,\n",
    "                \"cat\": l,\n",
    "                \"polarity\": polarity,  # Store polarity directly as 'positive' or 'negative'\n",
    "                \"polarity_score\": res2['scores'][0]\n",
    "            })\n",
    "        \n",
    "        # Append review_results for this sentence to batch_results\n",
    "        batch_results.append(review_results)\n",
    "    \n",
    "    return {\"results\": batch_results}\n",
    "\n",
    "# Iterate through each NLI model and process the dataset\n",
    "for nli, model_name in zip(nli_models, model_names):\n",
    "    # Apply the function to the dataset and process in batches\n",
    "    processed_results = reviews_dataset.map(lambda batch: process_review(batch, nli), batched=True)\n",
    "\n",
    "    # Flatten the results list to avoid ArrowInvalid error (if each review has multiple labels)\n",
    "    flat_results = [item for sublist in processed_results[\"results\"] for item in sublist]\n",
    "\n",
    "    # Convert the processed flattened results into a pandas DataFrame\n",
    "    df_results = pd.DataFrame(flat_results)\n",
    "    \n",
    "    # Export to CSV\n",
    "    output_path = f'Multi-Turn Zero-Shot ABSA/{model_name}_df_results.csv'  # Create file path dynamically\n",
    "    df_results.to_csv(output_path, index=False)\n"
   ]
  },
  {
   "cell_type": "code",
   "execution_count": 17,
   "metadata": {},
   "outputs": [
    {
     "data": {
      "text/html": [
       "<div>\n",
       "<style scoped>\n",
       "    .dataframe tbody tr th:only-of-type {\n",
       "        vertical-align: middle;\n",
       "    }\n",
       "\n",
       "    .dataframe tbody tr th {\n",
       "        vertical-align: top;\n",
       "    }\n",
       "\n",
       "    .dataframe thead th {\n",
       "        text-align: right;\n",
       "    }\n",
       "</style>\n",
       "<table border=\"1\" class=\"dataframe\">\n",
       "  <thead>\n",
       "    <tr style=\"text-align: right;\">\n",
       "      <th>polarity</th>\n",
       "      <th>negative</th>\n",
       "      <th>positive</th>\n",
       "      <th>category</th>\n",
       "      <th>total</th>\n",
       "      <th>sentiment</th>\n",
       "    </tr>\n",
       "    <tr>\n",
       "      <th>cat</th>\n",
       "      <th></th>\n",
       "      <th></th>\n",
       "      <th></th>\n",
       "      <th></th>\n",
       "      <th></th>\n",
       "    </tr>\n",
       "  </thead>\n",
       "  <tbody>\n",
       "    <tr>\n",
       "      <th>Cost</th>\n",
       "      <td>0</td>\n",
       "      <td>3</td>\n",
       "      <td>Cost</td>\n",
       "      <td>3</td>\n",
       "      <td>1.0</td>\n",
       "    </tr>\n",
       "    <tr>\n",
       "      <th>General</th>\n",
       "      <td>1</td>\n",
       "      <td>1</td>\n",
       "      <td>General</td>\n",
       "      <td>2</td>\n",
       "      <td>0.0</td>\n",
       "    </tr>\n",
       "    <tr>\n",
       "      <th>Instant Ink</th>\n",
       "      <td>0</td>\n",
       "      <td>4</td>\n",
       "      <td>Instant Ink</td>\n",
       "      <td>4</td>\n",
       "      <td>1.0</td>\n",
       "    </tr>\n",
       "    <tr>\n",
       "      <th>Quality</th>\n",
       "      <td>0</td>\n",
       "      <td>7</td>\n",
       "      <td>Quality</td>\n",
       "      <td>7</td>\n",
       "      <td>1.0</td>\n",
       "    </tr>\n",
       "    <tr>\n",
       "      <th>Shipment</th>\n",
       "      <td>0</td>\n",
       "      <td>2</td>\n",
       "      <td>Shipment</td>\n",
       "      <td>2</td>\n",
       "      <td>1.0</td>\n",
       "    </tr>\n",
       "  </tbody>\n",
       "</table>\n",
       "</div>"
      ],
      "text/plain": [
       "polarity     negative  positive     category  total  sentiment\n",
       "cat                                                           \n",
       "Cost                0         3         Cost      3        1.0\n",
       "General             1         1      General      2        0.0\n",
       "Instant Ink         0         4  Instant Ink      4        1.0\n",
       "Quality             0         7      Quality      7        1.0\n",
       "Shipment            0         2     Shipment      2        1.0"
      ]
     },
     "execution_count": 17,
     "metadata": {},
     "output_type": "execute_result"
    }
   ],
   "source": [
    "# Generate a summary table with cross-tabulation\n",
    "summary = pd.crosstab(df_results['cat'], df_results['polarity'])\n",
    "\n",
    "# Convert the summary into a DataFrame and add the category column\n",
    "df_summary = pd.DataFrame(summary)\n",
    "df_summary[\"category\"] = df_summary.index\n",
    "\n",
    "# Handle missing columns for any missing sentiment labels\n",
    "for col in ['positive', 'negative']:\n",
    "    if col not in df_summary.columns:\n",
    "        df_summary[col] = 0\n",
    "\n",
    "# Calculate the total number of sentiments (positive + negative) per category\n",
    "df_summary[\"total\"] = df_summary[\"positive\"] + df_summary[\"negative\"]\n",
    "\n",
    "# Calculate the overall sentiment score for each category\n",
    "# Score: (positive - negative) / (positive + negative)\n",
    "df_summary[\"sentiment\"] = np.round((df_summary[\"positive\"] - df_summary[\"negative\"]) / (df_summary[\"positive\"] + df_summary[\"negative\"]), 2)\n",
    "\n",
    "# Display the summary DataFrame\n",
    "df_summary"
   ]
  },
  {
   "cell_type": "code",
   "execution_count": 15,
   "metadata": {},
   "outputs": [
    {
     "data": {
      "text/plain": [
       "Text(0.5, 1.0, 'Sentiment Heat Map of Combined Review Aspects')"
      ]
     },
     "execution_count": 15,
     "metadata": {},
     "output_type": "execute_result"
    },
    {
     "data": {
      "image/png": "[encoded data removed]",
      "text/plain": [
       "<Figure size 1200x800 with 1 Axes>"
      ]
     },
     "metadata": {},
     "output_type": "display_data"
    }
   ],
   "source": [
    "import squarify\n",
    "import matplotlib\n",
    "import matplotlib.pyplot as plt\n",
    "\n",
    "norm = matplotlib.colors.Normalize(vmin=min(df_summary.sentiment), vmax=max(df_summary.sentiment))\n",
    "colors = [matplotlib.cm.Blues(norm(value)) for value in df_summary.sentiment]\n",
    "\n",
    "fig = plt.gcf()\n",
    "fig.set_size_inches(12, 8)\n",
    "\n",
    "#Use squarify to plot our data, label it and add colours. We add an alpha layer to ensure black labels show through\n",
    "# Also used color intensity to reflect the sentiment value.\n",
    "squarify.plot(label=df_summary.category,sizes=df_summary.total, value = df_summary.sentiment,color = colors, alpha=.5, pad =True)\n",
    "plt.title(\"Sentiment Heat Map of Combined Review Aspects\",fontsize=20,fontweight=\"bold\")"
   ]
  }
 ],
 "metadata": {
  "kernelspec": {
   "display_name": "Python 3",
   "language": "python",
   "name": "python3"
  },
  "language_info": {
   "codemirror_mode": {
    "name": "ipython",
    "version": 3
   },
   "file_extension": ".py",
   "mimetype": "text/x-python",
   "name": "python",
   "nbconvert_exporter": "python",
   "pygments_lexer": "ipython3",
   "version": "3.11.9"
  }
 },
 "nbformat": 4,
 "nbformat_minor": 2
}
