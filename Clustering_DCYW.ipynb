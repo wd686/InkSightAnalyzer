{
 "cells": [
  {
   "cell_type": "code",
   "execution_count": 2,
   "metadata": {},
   "outputs": [
    {
     "name": "stderr",
     "output_type": "stream",
     "text": [
      "[nltk_data] Downloading package punkt to\n",
      "[nltk_data]     C:\\Users\\dcyw\\AppData\\Roaming\\nltk_data...\n",
      "[nltk_data]   Package punkt is already up-to-date!\n",
      "[nltk_data] Downloading package stopwords to\n",
      "[nltk_data]     C:\\Users\\dcyw\\AppData\\Roaming\\nltk_data...\n",
      "[nltk_data]   Package stopwords is already up-to-date!\n",
      "[nltk_data] Downloading package wordnet to\n",
      "[nltk_data]     C:\\Users\\dcyw\\AppData\\Roaming\\nltk_data...\n",
      "[nltk_data]   Package wordnet is already up-to-date!\n"
     ]
    },
    {
     "data": {
      "text/plain": [
       "True"
      ]
     },
     "execution_count": 2,
     "metadata": {},
     "output_type": "execute_result"
    }
   ],
   "source": [
    "# Import necessary libraries\n",
    "import pandas as pd\n",
    "import numpy as np\n",
    "import nltk\n",
    "from nltk.corpus import stopwords\n",
    "from nltk.stem import WordNetLemmatizer\n",
    "from sklearn.feature_extraction.text import TfidfVectorizer\n",
    "from sklearn.cluster import KMeans\n",
    "from sklearn import metrics\n",
    "from sklearn.decomposition import TruncatedSVD\n",
    "from sklearn.preprocessing import Normalizer\n",
    "from sklearn.pipeline import make_pipeline\n",
    "import logging\n",
    "\n",
    "import gensim\n",
    "from gensim import corpora\n",
    "from gensim.models.coherencemodel import CoherenceModel\n",
    "\n",
    "# Download NLTK resources\n",
    "nltk.download('punkt')\n",
    "nltk.download('stopwords')\n",
    "nltk.download('wordnet')"
   ]
  },
  {
   "cell_type": "code",
   "execution_count": 3,
   "metadata": {},
   "outputs": [],
   "source": [
    "# Load Data\n",
    "df = pd.read_csv(r\"C:\\Users\\dcyw\\combined_dfv4.csv\", dtype=str)  # Update with your file path\n",
    "text_data = df['Combined Text'].dropna()"
   ]
  },
  {
   "cell_type": "markdown",
   "metadata": {},
   "source": [
    "# Clustering via k-means"
   ]
  },
  {
   "cell_type": "code",
   "execution_count": 4,
   "metadata": {},
   "outputs": [
    {
     "name": "stderr",
     "output_type": "stream",
     "text": [
      "c:\\Users\\dcyw\\anaconda3\\Lib\\site-packages\\sklearn\\cluster\\_kmeans.py:1412: FutureWarning: The default value of `n_init` will change from 10 to 'auto' in 1.4. Set the value of `n_init` explicitly to suppress the warning\n",
      "  super()._check_params_vs_input(X, default_n_init=10)\n"
     ]
    },
    {
     "name": "stdout",
     "output_type": "stream",
     "text": [
      "Silhouette Coefficient for 3 clusters: 0.007\n",
      "Cluster Labels: [0 1 2]\n",
      "Cluster Counts: [ 6863 53263 36654]\n",
      "Cluster 0: good quality ink price printer cartridge product easy print expensive\n",
      "Cluster 1: ink cartridge easy great print use product expensive color time\n",
      "Cluster 2: printer ink cartridge work print use new time would buy\n",
      "Silhouette Coefficient for 3 clusters after SVD: 0.010\n",
      "Cluster Labels after SVD: [0 1 2]\n",
      "Cluster Counts after SVD: [46894 17112 32774]\n",
      "Cluster 0: ink cartridge good easy product great price use expensive work\n",
      "Cluster 1: print color ink cartridge printer black quality printing page good\n",
      "Cluster 2: printer ink cartridge use work new time would buy like\n"
     ]
    }
   ],
   "source": [
    "# Logging configuration\n",
    "logging.basicConfig(format='%(asctime)s : %(levelname)s : %(message)s', level=logging.INFO)\n",
    "\n",
    "# Preprocessing\n",
    "mystopwords = stopwords.words(\"english\") + ['one', 'become', 'get', 'make', 'take']\n",
    "WNlemma = WordNetLemmatizer()\n",
    "\n",
    "def pre_process(text):\n",
    "    tokens = nltk.word_tokenize(text)\n",
    "    tokens = [WNlemma.lemmatize(t.lower()) for t in tokens]\n",
    "    tokens = [t for t in tokens if t not in mystopwords]\n",
    "    tokens = [t for t in tokens if len(t) >= 3]  # Keep words with 3+ characters\n",
    "    return \" \".join(tokens)\n",
    "\n",
    "# Apply preprocessing\n",
    "toks = text_data.apply(pre_process)\n",
    "\n",
    "# Create tf-idf matrix\n",
    "vectorizer = TfidfVectorizer(max_df=0.7, max_features=2500, min_df=3, stop_words=mystopwords, use_idf=True)\n",
    "X = vectorizer.fit_transform(toks)\n",
    "\n",
    "# K-Means Clustering\n",
    "km3 = KMeans(n_clusters=3, init='k-means++', max_iter=2000, random_state=5)\n",
    "km3.fit(X)\n",
    "\n",
    "# Evaluate the 3 clusters using silhouette score\n",
    "print(\"Silhouette Coefficient for 3 clusters: %0.3f\" % metrics.silhouette_score(X, km3.labels_))\n",
    "\n",
    "# Cluster sizes\n",
    "labels, counts = np.unique(km3.labels_[km3.labels_ >= 0], return_counts=True)\n",
    "print(\"Cluster Labels:\", labels)\n",
    "print(\"Cluster Counts:\", counts)\n",
    "\n",
    "# Print top terms in each cluster\n",
    "def print_terms(cm, num):\n",
    "    original_space_centroids = cm.cluster_centers_\n",
    "    order_centroids = original_space_centroids.argsort()[:, ::-1]\n",
    "    terms = vectorizer.get_feature_names_out()\n",
    "    for i in range(num):\n",
    "        print(\"Cluster %d:\" % i, end='')\n",
    "        for ind in order_centroids[i, :10]:\n",
    "            print(' %s' % terms[ind], end='')\n",
    "        print()\n",
    "\n",
    "print_terms(km3, 3)\n",
    "\n",
    "# SVD dimensionality reduction\n",
    "svd = TruncatedSVD(300)\n",
    "normalizer = Normalizer(copy=False)\n",
    "lsa = make_pipeline(svd, normalizer)\n",
    "X_lsa = lsa.fit_transform(X)\n",
    "\n",
    "# Apply KMeans again after SVD\n",
    "km3_svd = KMeans(n_clusters=3, init='k-means++', max_iter=1000, n_init=1)\n",
    "km3_svd.fit(X_lsa)\n",
    "\n",
    "print(\"Silhouette Coefficient for 3 clusters after SVD: %0.3f\" % metrics.silhouette_score(X_lsa, km3_svd.labels_))\n",
    "\n",
    "# Cluster sizes after SVD\n",
    "labels_svd, counts_svd = np.unique(km3_svd.labels_[km3_svd.labels_ >= 0], return_counts=True)\n",
    "print(\"Cluster Labels after SVD:\", labels_svd)\n",
    "print(\"Cluster Counts after SVD:\", counts_svd)\n",
    "\n",
    "# Print top terms in each cluster after SVD\n",
    "def print_SVD_terms(cm, num):\n",
    "    original_space_centroids = svd.inverse_transform(cm.cluster_centers_)\n",
    "    order_centroids = original_space_centroids.argsort()[:, ::-1]\n",
    "    terms = vectorizer.get_feature_names_out()\n",
    "    for i in range(num):\n",
    "        print(\"Cluster %d:\" % i, end='')\n",
    "        for ind in order_centroids[i, :10]:\n",
    "            print(' %s' % terms[ind], end='')\n",
    "        print()\n",
    "\n",
    "print_SVD_terms(km3_svd, 3)\n"
   ]
  }
 ],
 "metadata": {
  "kernelspec": {
   "display_name": "base",
   "language": "python",
   "name": "python3"
  },
  "language_info": {
   "codemirror_mode": {
    "name": "ipython",
    "version": 3
   },
   "file_extension": ".py",
   "mimetype": "text/x-python",
   "name": "python",
   "nbconvert_exporter": "python",
   "pygments_lexer": "ipython3",
   "version": "3.11.3"
  }
 },
 "nbformat": 4,
 "nbformat_minor": 2
}
