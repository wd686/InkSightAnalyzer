{
 "cells": [
  {
   "cell_type": "code",
   "execution_count": null,
   "metadata": {},
   "outputs": [],
   "source": [
    "from transformers import pipeline\n",
    "\n",
    "# Load a GPT-like model that supports few-shot learning (or use a similar model)\n",
    "llm = pipeline('text-generation', model=\"gpt-3\")\n",
    "\n",
    "# Prepare the few-shot prompt\n",
    "few_shot_prompt = \"\"\"\n",
    "Extract the sentiment expression for each aspect mentioned in the review. Below are a few examples:\n",
    "\n",
    "Review: \"The product quality is excellent but the customer service is terrible.\"\n",
    "Aspects: \n",
    "- quality: excellent\n",
    "- customer service: terrible\n",
    "\n",
    "Review: \"The battery life of this laptop is too short, but the screen quality is amazing.\"\n",
    "Aspects:\n",
    "- battery life: too short\n",
    "- screen quality: amazing\n",
    "\n",
    "Review: \"The quality is good but the price is expensive.\"\n",
    "Aspects:\n",
    "- quality: good\n",
    "- price: expensive\n",
    "\"\"\"\n",
    "\n",
    "# Input the review for inference\n",
    "input_review = \"The quality is good but the price is expensive.\"\n",
    "\n",
    "# Generate the output using the LLM\n",
    "output = llm(few_shot_prompt, max_length=200)\n",
    "\n",
    "# Print the output\n",
    "print(output)\n"
   ]
  },
  {
   "cell_type": "markdown",
   "metadata": {},
   "source": [
    "# Llama 3.1 to extract sentiment expression\n",
    "- unable to restrict / standardize the output\n",
    "- using few shots : model include the examples in the output too"
   ]
  },
  {
   "cell_type": "code",
   "execution_count": 2,
   "metadata": {},
   "outputs": [
    {
     "name": "stdout",
     "output_type": "stream",
     "text": [
      "Let's apply the same process to a new review:\n",
      "\n",
      "Review: \"I'm really satisfied with the hotel's cleanliness and location, but the breakfast was a letdown.\"\n",
      "\n",
      "Aspects:\n",
      "- cleanliness: really satisfied (positive)\n",
      "- location: really satisfied (positive)\n",
      "- breakfast: a letdown (negative)\n",
      "\n",
      "Example 2:\n",
      "Review: \"The new smartphone has a great camera and decent battery life, but the storage capacity is too small.\"\n",
      " \n",
      "Aspects:\n",
      "- camera: great\n",
      "- battery life: decent\n",
      "- storage capacity: too small\n"
     ]
    }
   ],
   "source": [
    "import ollama\n",
    "\n",
    "list_model_name = ['llama3.1']\n",
    "\n",
    "response = ollama.chat(model='llama3.1', messages=[\n",
    "  {\n",
    "    'role': 'user',\n",
    "    'content': '''\n",
    "\n",
    "Extract the sentiment expression for each aspect mentioned in the review. Below are a few examples:\n",
    "\n",
    "Review: \"The product quality is excellent but the customer service is terrible.\"\n",
    "Aspects: \n",
    "- quality: excellent\n",
    "- customer service: terrible\n",
    "\n",
    "Review: \"The battery life of this laptop is too short, but the screen quality is amazing.\"\n",
    "Aspects:\n",
    "- battery life: too short\n",
    "- screen quality: amazing\n",
    "\n",
    "Review: \"The quality is good but the price is expensive.\"\n",
    "Aspects:\n",
    "- quality: good\n",
    "- price: expensive\n",
    "    ''',\n",
    "  },\n",
    "])\n",
    "print(response['message']['content'])"
   ]
  },
  {
   "cell_type": "code",
   "execution_count": 25,
   "metadata": {},
   "outputs": [
    {
     "name": "stdout",
     "output_type": "stream",
     "text": [
      "```\n",
      "{\n",
      "  \"review\": \"The new smartphone has a great camera and decent battery life, but the storage capacity is too small.\",\n",
      "  \"aspects\": [\n",
      "    {\n",
      "      \"aspect\": \"Battery Life\",\n",
      "      \"sentiment_expression\": \"decent\"\n",
      "    },\n",
      "    {\n",
      "      \"aspect\": \"Storage\",\n",
      "      \"sentiment_expression\": \"too small\"\n",
      "    }\n",
      "  ]\n",
      "}\n",
      "```\n",
      "\n",
      "```\n",
      "{\n",
      "  \"review\": \"The quality is good but the price is expensive.\",\n",
      "  \"aspects\": [\n",
      "    {\n",
      "      \"aspect\": \"quality\",\n",
      "      \"sentiment_expression\": \"good\"\n",
      "    },\n",
      "    {\n",
      "      \"aspect\": \"price\",\n",
      "      \"sentiment_expression\": \"expensive\"\n",
      "    }\n",
      "  ]\n",
      "}\n",
      "```\n"
     ]
    }
   ],
   "source": [
    "import ollama\n",
    "\n",
    "# Define a function to interact with Llama3.1 via Ollama\n",
    "def extract_sentiment_expressions(model_name, review, aspects):\n",
    "    # Construct the prompt dynamically with the review and aspects\n",
    "    prompt = f'''\n",
    "Extract the sentiment expression for each aspect mentioned in the review. Return the output in this json format below. Return the json only, no other text \n",
    "\n",
    "  \"review\": \"The new smartphone has a great camera and decent battery life, but the storage capacity is too small.\",\n",
    "  \"aspects\": \n",
    "    \"Battery Life\": \"decent\",\n",
    "    \"Storage\": \"too small\"\n",
    "\n",
    "\n",
    "Review: \"{review}\"\n",
    "Aspects:\n",
    "'''\n",
    "\n",
    "    # Add the aspects dynamically to the prompt\n",
    "    for aspect in aspects:\n",
    "        prompt += f\"- {aspect}: \\n\"\n",
    "\n",
    "    # Use the Ollama API to generate the sentiment expression\n",
    "    response = ollama.chat(\n",
    "        model=model_name, \n",
    "        messages=[\n",
    "            {\n",
    "                'role': 'user',\n",
    "                'content': prompt,\n",
    "            }\n",
    "        ]\n",
    "    )\n",
    "\n",
    "    # Return the response from the model\n",
    "    return response['message']['content']\n",
    "\n",
    "# Example usage\n",
    "model_name = 'llama3.1'\n",
    "review = \"The quality is good but the price is expensive.\"\n",
    "aspects = ['quality', 'price']\n",
    "\n",
    "# Call the function to extract sentiment expressions\n",
    "sentiment_expressions = extract_sentiment_expressions(model_name, review, aspects)\n",
    "print(sentiment_expressions)\n"
   ]
  },
  {
   "cell_type": "code",
   "execution_count": 27,
   "metadata": {},
   "outputs": [
    {
     "name": "stdout",
     "output_type": "stream",
     "text": [
      "{\n",
      "  \"review\": \"The new smartphone has a great camera and decent battery life, but the storage capacity is too small.\",\n",
      "  \"aspects\": [\n",
      "    {\n",
      "      \"name\": \"Battery Life\",\n",
      "      \"sentiment_expression\": \"decent\"\n",
      "    },\n",
      "    {\n",
      "      \"name\": \"Storage\",\n",
      "      \"sentiment_expression\": \"too small\"\n",
      "    }\n",
      "  ],\n",
      "  \"Review\": \"I placed my order for shipping but apparently the warehouse was out of the black ink so they switched to store delivery to ship the color cartridge. When I called customer support I was issued a refund but was also promised an e-mail gift card to cover the reorder since I would now be charged shipping fee. I was placed on hold so she could issue the refund and send me the gift card but somehow was transferred to a different person who transferred me back to customer service only to get someone different who looked in my account, told me that the original person had placed the item back in my cart for me and selected shipping and that the gift card can take a bit to arrive in my email but gave me a promo code for all the confusion which I di...\",\n",
      "  \"aspects\": [\n",
      "    {\n",
      "      \"name\": \"Delivery\",\n",
      "      \"sentiment_expression\": null\n",
      "    }\n",
      "  ]\n",
      "}\n"
     ]
    }
   ],
   "source": [
    "# Example usage\n",
    "model_name = 'llama3.1'\n",
    "review = '''\n",
    "I placed my order for shipping but apparently the warehouse was out of the black ink so they switched to store delivery to ship the color cartridge. When I called customer support I was issued a refund but was also promised an e-mail gift card to cover the reorder since I would now be charged shipping fee. I was placed on hold so she could issue the refund and send me the gift card but somehow was transferred to a different person who transferred me back to customer service only to get someone different who looked in my account, told me that the original person had placed the item back in my cart for me and selected shipping and that the gift card can take a bit to arrive in my email but gave me a promo code for all the confusion which I di...\n",
    "'''\n",
    "aspects = ['Delivery']\n",
    "\n",
    "# Call the function to extract sentiment expressions\n",
    "sentiment_expressions = extract_sentiment_expressions(model_name, review, aspects)\n",
    "print(sentiment_expressions)"
   ]
  },
  {
   "cell_type": "code",
   "execution_count": 30,
   "metadata": {},
   "outputs": [
    {
     "name": "stdout",
     "output_type": "stream",
     "text": [
      "{\n",
      "  \"review\": \"Fast ship good price. It's a shame I had to order this from another walmart and not my local store.\",\n",
      "  \"aspects\": [\n",
      "    {\n",
      "      \"aspect\": \"Price\",\n",
      "      \"sentiment_expression\": \"good\"\n",
      "    },\n",
      "    {\n",
      "      \"aspect\": \"Delivery\",\n",
      "      \"sentiment_expression\": \"Fast ship\"\n",
      "    }\n",
      "  ]\n",
      "}\n"
     ]
    }
   ],
   "source": [
    "# Example usage\n",
    "model_name = 'llama3.1'\n",
    "review = '''\n",
    "Fast ship good price. It's a shame I had to order this from another walmart and not my local store.\n",
    "'''\n",
    "\n",
    "aspects = ['Price', 'Delivery']\n",
    "\n",
    "# Call the function to extract sentiment expressions\n",
    "sentiment_expressions = extract_sentiment_expressions(model_name, review, aspects)\n",
    "print(sentiment_expressions)"
   ]
  },
  {
   "cell_type": "markdown",
   "metadata": {},
   "source": [
    "# Llama 3.1 - Q&A style to extract sentiment expressions and loop thru all aspects identified\n",
    "- output not great, as unable to correctly extract the sentiment expressions"
   ]
  },
  {
   "cell_type": "code",
   "execution_count": 49,
   "metadata": {},
   "outputs": [
    {
     "name": "stdout",
     "output_type": "stream",
     "text": [
      "Review: 'The quality is good but the price is expensive.' => Sentiment Expressions: {'quality': 'good', 'price': '\"expensive\"'}\n"
     ]
    }
   ],
   "source": [
    "import ollama\n",
    "\n",
    "def extract_sentiment_expression_llama(review, aspects, model_name='llama3.1'):\n",
    "    # Store the answers\n",
    "    answers = {}\n",
    "\n",
    "    # Iterate over the provided aspects to construct the prompt\n",
    "    for aspect in aspects:\n",
    "        prompt = f\"\"\"\n",
    "        Review: \"{review}\"\n",
    "        Aspect: \"{aspect}\"\n",
    "        What is the sentiment expression for this aspect? Return the sentiment expression identified only. Example of sentiment expressions are 'good', 'too late'\n",
    "        \"\"\"\n",
    "\n",
    "        # Use the Ollama API to generate the sentiment expression\n",
    "        response = ollama.chat(\n",
    "            model=model_name, \n",
    "            messages=[{\"role\": \"user\", \"content\": prompt}]\n",
    "        )\n",
    "\n",
    "        # Extract the sentiment expression from the response\n",
    "        result_text = response['message']['content']\n",
    "        answers[aspect] = result_text.strip()\n",
    "\n",
    "    return answers\n",
    "\n",
    "# Example usage\n",
    "review = \"The quality is good but the price is expensive.\"\n",
    "aspects = [\"quality\", \"price\"]\n",
    "\n",
    "# Extract sentiment expressions for the review and specified aspects\n",
    "sentiment_expressions = extract_sentiment_expression_llama(review, aspects)\n",
    "print(f\"Review: '{review}' => Sentiment Expressions: {sentiment_expressions}\")\n"
   ]
  },
  {
   "cell_type": "code",
   "execution_count": 51,
   "metadata": {},
   "outputs": [
    {
     "name": "stdout",
     "output_type": "stream",
     "text": [
      "Review: 'Fast ship good price. It's a shame I had to order this from another walmart and not my local store.' => Sentiment Expressions: {'Price': 'Good', 'Delivery': 'Good'}\n"
     ]
    }
   ],
   "source": [
    "# Example usage\n",
    "review = \"Fast ship good price. It's a shame I had to order this from another walmart and not my local store.\"\n",
    "aspects = ['Price', 'Delivery']\n",
    "\n",
    "# Extract sentiment expressions for the review and specified aspects\n",
    "sentiment_expressions = extract_sentiment_expression_llama(review, aspects)\n",
    "print(f\"Review: '{review}' => Sentiment Expressions: {sentiment_expressions}\")\n"
   ]
  },
  {
   "cell_type": "code",
   "execution_count": 52,
   "metadata": {},
   "outputs": [
    {
     "name": "stdout",
     "output_type": "stream",
     "text": [
      "Review: 'I am not satisfied with the HP instant Ink service for both my Tango printer and the HP Envy 6000. In fact, I did not receive ink cartridges when I needed them. I canceled both HP instant Ink subscriptions and I am still being harassed about these subscriptions even though they have been deleted.' => Sentiment Expressions: {'Instant Ink': 'Frustration/anger', 'Delivery': '\"Too late\"'}\n"
     ]
    }
   ],
   "source": [
    "# Example usage\n",
    "review = \"I am not satisfied with the HP instant Ink service for both my Tango printer and the HP Envy 6000. In fact, I did not receive ink cartridges when I needed them. I canceled both HP instant Ink subscriptions and I am still being harassed about these subscriptions even though they have been deleted.\"\n",
    "aspects = ['Instant Ink', 'Delivery']\n",
    "\n",
    "# Extract sentiment expressions for the review and specified aspects\n",
    "sentiment_expressions = extract_sentiment_expression_llama(review, aspects)\n",
    "print(f\"Review: '{review}' => Sentiment Expressions: {sentiment_expressions}\")\n"
   ]
  },
  {
   "cell_type": "markdown",
   "metadata": {},
   "source": [
    "# (BEST) Llama 3.1 - using aspects identified, perform sentiment analysis directly\n",
    " - Good performance\n",
    " - Consistent output\n",
    " - Simplified pipeline"
   ]
  },
  {
   "cell_type": "code",
   "execution_count": 3,
   "metadata": {},
   "outputs": [
    {
     "name": "stdout",
     "output_type": "stream",
     "text": [
      "Review: 'The quality is good but the price is expensive.' => Sentiment Expressions: {'quality': 'Neutral/Positive', 'price': 'Negative'}\n"
     ]
    }
   ],
   "source": [
    "import ollama\n",
    "\n",
    "def extract_sentiment_expression_llama(review, aspects, model_name='llama3.1'):\n",
    "    # Store the answers\n",
    "    answers = {}\n",
    "\n",
    "    # Iterate over the provided aspects to construct the prompt\n",
    "    for aspect in aspects:\n",
    "        prompt = f\"\"\"\n",
    "        Review: \"{review}\"\n",
    "        Aspect: \"{aspect}\"\n",
    "        What is the sentiment (positive, negative) for this aspect? Return the sentiment identified only. \n",
    "        \"\"\"\n",
    "\n",
    "        # Use the Ollama API to generate the sentiment expression\n",
    "        response = ollama.chat(\n",
    "            model=model_name, \n",
    "            messages=[{\"role\": \"user\", \"content\": prompt}]\n",
    "        )\n",
    "\n",
    "        # Extract the sentiment expression from the response\n",
    "        result_text = response['message']['content']\n",
    "        answers[aspect] = result_text.strip()\n",
    "\n",
    "    return answers\n",
    "\n",
    "# Example usage\n",
    "review = \"The quality is good but the price is expensive.\"\n",
    "aspects = [\"quality\", \"price\"]\n",
    "\n",
    "# Extract sentiment expressions for the review and specified aspects\n",
    "sentiment_expressions = extract_sentiment_expression_llama(review, aspects)\n",
    "print(f\"Review: '{review}' => Sentiment Expressions: {sentiment_expressions}\")\n"
   ]
  },
  {
   "cell_type": "code",
   "execution_count": 55,
   "metadata": {},
   "outputs": [
    {
     "name": "stdout",
     "output_type": "stream",
     "text": [
      "Review: 'I am not satisfied with the HP instant Ink service for both my Tango printer and the HP Envy 6000. In fact, I did not receive ink cartridges when I needed them. I canceled both HP instant Ink subscriptions and I am still being harassed about these subscriptions even though they have been deleted.' => Sentiment Expressions: {'Instant Ink': 'Negative', 'Delivery': 'Negative'}\n"
     ]
    }
   ],
   "source": [
    "# Example usage\n",
    "review = \"I am not satisfied with the HP instant Ink service for both my Tango printer and the HP Envy 6000. In fact, I did not receive ink cartridges when I needed them. I canceled both HP instant Ink subscriptions and I am still being harassed about these subscriptions even though they have been deleted.\"\n",
    "aspects = ['Instant Ink', 'Delivery']\n",
    "\n",
    "# Extract sentiment expressions for the review and specified aspects\n",
    "sentiment_expressions = extract_sentiment_expression_llama(review, aspects)\n",
    "print(f\"Review: '{review}' => Sentiment Expressions: {sentiment_expressions}\")\n"
   ]
  },
  {
   "cell_type": "code",
   "execution_count": 56,
   "metadata": {},
   "outputs": [
    {
     "name": "stdout",
     "output_type": "stream",
     "text": [
      "Review: 'Fast ship good price. It's a shame I had to order this from another walmart and not my local store.' => Sentiment Expressions: {'Price': 'Positive', 'Delivery': 'Positive'}\n"
     ]
    }
   ],
   "source": [
    "# Example usage\n",
    "review = \"Fast ship good price. It's a shame I had to order this from another walmart and not my local store.\"\n",
    "aspects = ['Price', 'Delivery']\n",
    "\n",
    "# Extract sentiment expressions for the review and specified aspects\n",
    "sentiment_expressions = extract_sentiment_expression_llama(review, aspects)\n",
    "print(f\"Review: '{review}' => Sentiment Expressions: {sentiment_expressions}\")\n"
   ]
  },
  {
   "cell_type": "code",
   "execution_count": 57,
   "metadata": {},
   "outputs": [
    {
     "name": "stdout",
     "output_type": "stream",
     "text": [
      "Review: 'Have had a lot of difficulty with the printer. Instant ink was terrible and cost me more money due to limiting my printing. Cartridges are expensive and don't seem to last very long.' => Sentiment Expressions: {'Price': 'Negative', 'Instant Ink': 'Negative', 'Product Quality': 'Negative'}\n"
     ]
    }
   ],
   "source": [
    "# Example usage\n",
    "review = \"Have had a lot of difficulty with the printer. Instant ink was terrible and cost me more money due to limiting my printing. Cartridges are expensive and don't seem to last very long.\"\n",
    "aspects = ['Price', 'Instant Ink', 'Product Quality']\n",
    "\n",
    "# Extract sentiment expressions for the review and specified aspects\n",
    "sentiment_expressions = extract_sentiment_expression_llama(review, aspects)\n",
    "print(f\"Review: '{review}' => Sentiment Expressions: {sentiment_expressions}\")\n"
   ]
  },
  {
   "cell_type": "code",
   "execution_count": 58,
   "metadata": {},
   "outputs": [
    {
     "name": "stdout",
     "output_type": "stream",
     "text": [
      "Review: 'Joined instant ink and you let me run out of color ink I have to buy at store while waiting for shipment' => Sentiment Expressions: {'Instant Ink': 'Negative', 'Delivery': 'Negative'}\n"
     ]
    }
   ],
   "source": [
    "# Example usage\n",
    "review = \"Joined instant ink and you let me run out of color ink I have to buy at store while waiting for shipment\"\n",
    "aspects = ['Instant Ink', 'Delivery']\n",
    "\n",
    "# Extract sentiment expressions for the review and specified aspects\n",
    "sentiment_expressions = extract_sentiment_expression_llama(review, aspects)\n",
    "print(f\"Review: '{review}' => Sentiment Expressions: {sentiment_expressions}\")\n"
   ]
  },
  {
   "cell_type": "code",
   "execution_count": 59,
   "metadata": {},
   "outputs": [
    {
     "name": "stdout",
     "output_type": "stream",
     "text": [
      "Review: '\n",
      "The printer is fine, but the excessive increase in the price of instant ink would make me suggest anyone looking \n",
      "for a new printer looks at alternatives first and does the calculation on relative costs.  \n",
      "The setup for me was ok, but for many it is a bit convoluted.' => Sentiment Expressions: {'Product Quality': 'Neutral/Negative', 'Price': 'Negative'}\n"
     ]
    }
   ],
   "source": [
    "# Example usage\n",
    "review = '''\n",
    "The printer is fine, but the excessive increase in the price of instant ink would make me suggest anyone looking \n",
    "for a new printer looks at alternatives first and does the calculation on relative costs.  \n",
    "The setup for me was ok, but for many it is a bit convoluted.'''\n",
    "\n",
    "aspects = ['Product Quality', 'Price']\n",
    "\n",
    "# Extract sentiment expressions for the review and specified aspects\n",
    "sentiment_expressions = extract_sentiment_expression_llama(review, aspects)\n",
    "print(f\"Review: '{review}' => Sentiment Expressions: {sentiment_expressions}\")\n"
   ]
  },
  {
   "cell_type": "code",
   "execution_count": 4,
   "metadata": {},
   "outputs": [
    {
     "data": {
      "text/html": [
       "<div>\n",
       "<style scoped>\n",
       "    .dataframe tbody tr th:only-of-type {\n",
       "        vertical-align: middle;\n",
       "    }\n",
       "\n",
       "    .dataframe tbody tr th {\n",
       "        vertical-align: top;\n",
       "    }\n",
       "\n",
       "    .dataframe thead th {\n",
       "        text-align: right;\n",
       "    }\n",
       "</style>\n",
       "<table border=\"1\" class=\"dataframe\">\n",
       "  <thead>\n",
       "    <tr style=\"text-align: right;\">\n",
       "      <th></th>\n",
       "      <th>Survey ID</th>\n",
       "      <th>Product Name</th>\n",
       "      <th>Print Customer Region</th>\n",
       "      <th>LTR</th>\n",
       "      <th>Source Type</th>\n",
       "      <th>Survey language</th>\n",
       "      <th>Review Source</th>\n",
       "      <th>Star Rating</th>\n",
       "      <th>Product Family</th>\n",
       "      <th>Supplies Family</th>\n",
       "      <th>...</th>\n",
       "      <th>max_predicted_level1</th>\n",
       "      <th>max_predicted_aspect</th>\n",
       "      <th>All Aspects</th>\n",
       "      <th>Aspect 1</th>\n",
       "      <th>Aspect 2</th>\n",
       "      <th>Aspect 3</th>\n",
       "      <th>Unnamed: 25</th>\n",
       "      <th>Output Labels</th>\n",
       "      <th>Label Vectors</th>\n",
       "      <th>Predicted Labels</th>\n",
       "    </tr>\n",
       "  </thead>\n",
       "  <tbody>\n",
       "    <tr>\n",
       "      <th>0</th>\n",
       "      <td>101618952</td>\n",
       "      <td>HP 63 Black Original Ink Cartridge</td>\n",
       "      <td>US</td>\n",
       "      <td>10</td>\n",
       "      <td>Web Reviews</td>\n",
       "      <td>English</td>\n",
       "      <td>Walmart</td>\n",
       "      <td>5.0</td>\n",
       "      <td>Supplies - Ink</td>\n",
       "      <td>Dolmen Refresh</td>\n",
       "      <td>...</td>\n",
       "      <td>Brand Loyalty</td>\n",
       "      <td>Others</td>\n",
       "      <td>Price, Product Quality,</td>\n",
       "      <td>Price</td>\n",
       "      <td>Product Quality</td>\n",
       "      <td>NaN</td>\n",
       "      <td>NaN</td>\n",
       "      <td>['Price', 'Product Quality']</td>\n",
       "      <td>[0, 1, 1, 0, 0]</td>\n",
       "      <td>['Product Quality', 'Price']</td>\n",
       "    </tr>\n",
       "    <tr>\n",
       "      <th>1</th>\n",
       "      <td>110317001</td>\n",
       "      <td>HP 63XL High Yield Black Original Ink Cartridge</td>\n",
       "      <td>US</td>\n",
       "      <td>10</td>\n",
       "      <td>Web Reviews</td>\n",
       "      <td>English</td>\n",
       "      <td>HP US</td>\n",
       "      <td>5.0</td>\n",
       "      <td>Supplies - Ink</td>\n",
       "      <td>Dolmen Refresh</td>\n",
       "      <td>...</td>\n",
       "      <td>Brand Loyalty</td>\n",
       "      <td>Others</td>\n",
       "      <td>Delivery, ,</td>\n",
       "      <td>Delivery</td>\n",
       "      <td>NaN</td>\n",
       "      <td>NaN</td>\n",
       "      <td>NaN</td>\n",
       "      <td>['Delivery']</td>\n",
       "      <td>[1, 0, 0, 0, 0]</td>\n",
       "      <td>['Delivery']</td>\n",
       "    </tr>\n",
       "    <tr>\n",
       "      <th>2</th>\n",
       "      <td>113652950</td>\n",
       "      <td>HP 63 Black Original Ink Cartridge</td>\n",
       "      <td>US</td>\n",
       "      <td>10</td>\n",
       "      <td>Web Reviews</td>\n",
       "      <td>English</td>\n",
       "      <td>Walmart</td>\n",
       "      <td>5.0</td>\n",
       "      <td>Supplies - Ink</td>\n",
       "      <td>Dolmen Refresh</td>\n",
       "      <td>...</td>\n",
       "      <td>Brand Loyalty</td>\n",
       "      <td>Others</td>\n",
       "      <td>Price, ,</td>\n",
       "      <td>Price</td>\n",
       "      <td>NaN</td>\n",
       "      <td>NaN</td>\n",
       "      <td>NaN</td>\n",
       "      <td>['Price']</td>\n",
       "      <td>[0, 0, 1, 0, 0]</td>\n",
       "      <td>['Price']</td>\n",
       "    </tr>\n",
       "    <tr>\n",
       "      <th>3</th>\n",
       "      <td>117483634</td>\n",
       "      <td>HP 65XL Tri-color Original Ink Cartridge</td>\n",
       "      <td>US</td>\n",
       "      <td>10</td>\n",
       "      <td>Web Reviews</td>\n",
       "      <td>English</td>\n",
       "      <td>Walmart</td>\n",
       "      <td>5.0</td>\n",
       "      <td>Supplies - Ink</td>\n",
       "      <td>Dolmen Refresh</td>\n",
       "      <td>...</td>\n",
       "      <td>Brand Loyalty</td>\n",
       "      <td>Others</td>\n",
       "      <td>Price, Product Quality,</td>\n",
       "      <td>Price</td>\n",
       "      <td>Product Quality</td>\n",
       "      <td>NaN</td>\n",
       "      <td>NaN</td>\n",
       "      <td>['Price', 'Product Quality']</td>\n",
       "      <td>[0, 1, 1, 0, 0]</td>\n",
       "      <td>['Price']</td>\n",
       "    </tr>\n",
       "    <tr>\n",
       "      <th>4</th>\n",
       "      <td>118156397</td>\n",
       "      <td>HP 951XL 3-pack High Yield Cyan/Magenta/Yellow...</td>\n",
       "      <td>US</td>\n",
       "      <td>10</td>\n",
       "      <td>Web Reviews</td>\n",
       "      <td>English</td>\n",
       "      <td>Walmart</td>\n",
       "      <td>5.0</td>\n",
       "      <td>Supplies - Ink</td>\n",
       "      <td>Nesta+</td>\n",
       "      <td>...</td>\n",
       "      <td>Brand Loyalty</td>\n",
       "      <td>Others</td>\n",
       "      <td>Price, Delivery,</td>\n",
       "      <td>Price</td>\n",
       "      <td>Delivery</td>\n",
       "      <td>NaN</td>\n",
       "      <td>NaN</td>\n",
       "      <td>['Price', 'Delivery']</td>\n",
       "      <td>[1, 0, 1, 0, 0]</td>\n",
       "      <td>['Delivery', 'Price']</td>\n",
       "    </tr>\n",
       "  </tbody>\n",
       "</table>\n",
       "<p>5 rows × 29 columns</p>\n",
       "</div>"
      ],
      "text/plain": [
       "   Survey ID                                       Product Name  \\\n",
       "0  101618952                 HP 63 Black Original Ink Cartridge   \n",
       "1  110317001    HP 63XL High Yield Black Original Ink Cartridge   \n",
       "2  113652950                 HP 63 Black Original Ink Cartridge   \n",
       "3  117483634           HP 65XL Tri-color Original Ink Cartridge   \n",
       "4  118156397  HP 951XL 3-pack High Yield Cyan/Magenta/Yellow...   \n",
       "\n",
       "  Print Customer Region  LTR  Source Type Survey language Review Source  \\\n",
       "0                    US   10  Web Reviews         English       Walmart   \n",
       "1                    US   10  Web Reviews         English         HP US   \n",
       "2                    US   10  Web Reviews         English       Walmart   \n",
       "3                    US   10  Web Reviews         English       Walmart   \n",
       "4                    US   10  Web Reviews         English       Walmart   \n",
       "\n",
       "   Star Rating  Product Family Supplies Family  ... max_predicted_level1  \\\n",
       "0          5.0  Supplies - Ink  Dolmen Refresh  ...        Brand Loyalty   \n",
       "1          5.0  Supplies - Ink  Dolmen Refresh  ...        Brand Loyalty   \n",
       "2          5.0  Supplies - Ink  Dolmen Refresh  ...        Brand Loyalty   \n",
       "3          5.0  Supplies - Ink  Dolmen Refresh  ...        Brand Loyalty   \n",
       "4          5.0  Supplies - Ink          Nesta+  ...        Brand Loyalty   \n",
       "\n",
       "  max_predicted_aspect               All Aspects  Aspect 1         Aspect 2  \\\n",
       "0               Others  Price, Product Quality,      Price  Product Quality   \n",
       "1               Others              Delivery, ,   Delivery              NaN   \n",
       "2               Others                 Price, ,      Price              NaN   \n",
       "3               Others  Price, Product Quality,      Price  Product Quality   \n",
       "4               Others         Price, Delivery,      Price         Delivery   \n",
       "\n",
       "  Aspect 3 Unnamed: 25                 Output Labels    Label Vectors  \\\n",
       "0      NaN         NaN  ['Price', 'Product Quality']  [0, 1, 1, 0, 0]   \n",
       "1      NaN         NaN                  ['Delivery']  [1, 0, 0, 0, 0]   \n",
       "2      NaN         NaN                     ['Price']  [0, 0, 1, 0, 0]   \n",
       "3      NaN         NaN  ['Price', 'Product Quality']  [0, 1, 1, 0, 0]   \n",
       "4      NaN         NaN         ['Price', 'Delivery']  [1, 0, 1, 0, 0]   \n",
       "\n",
       "               Predicted Labels  \n",
       "0  ['Product Quality', 'Price']  \n",
       "1                  ['Delivery']  \n",
       "2                     ['Price']  \n",
       "3                     ['Price']  \n",
       "4         ['Delivery', 'Price']  \n",
       "\n",
       "[5 rows x 29 columns]"
      ]
     },
     "execution_count": 4,
     "metadata": {},
     "output_type": "execute_result"
    }
   ],
   "source": [
    "import pandas as pd\n",
    "\n",
    "# Read the Excel file\n",
    "file_path = 'predicted_labels_v2.xlsx'\n",
    "df = pd.read_excel(file_path)\n",
    "df.head()"
   ]
  },
  {
   "cell_type": "code",
   "execution_count": 5,
   "metadata": {},
   "outputs": [
    {
     "name": "stdout",
     "output_type": "stream",
     "text": [
      "Data saved to 'processed_sentiment_data_v2.xlsx'\n"
     ]
    }
   ],
   "source": [
    "import ast\n",
    "\n",
    "# Function to convert 'Predicted Labels' column to a list\n",
    "def convert_to_list(aspect_string):\n",
    "    return ast.literal_eval(aspect_string) if isinstance(aspect_string, str) else []\n",
    "\n",
    "# Applying the function to the DataFrame\n",
    "def process_dataframe(df):\n",
    "    # Create a new column for the list of aspects\n",
    "    df['Aspect List'] = df['Predicted Labels'].apply(convert_to_list)\n",
    "\n",
    "    # Apply the sentiment extraction function to each row\n",
    "    df['Sentiment Expressions'] = df.apply(\n",
    "        lambda row: extract_sentiment_expression_llama(row['Combined Text'], row['Aspect List']), axis=1\n",
    "    )\n",
    "\n",
    "    return df\n",
    "\n",
    "# apply to df\n",
    "df_new = process_dataframe(df)\n",
    "\n",
    "# Save the new DataFrame to an Excel file\n",
    "df_new.to_excel('processed_sentiment_data_v2.xlsx', index=False)\n",
    "\n",
    "print(\"Data saved to 'processed_sentiment_data_v2.xlsx'\")"
   ]
  },
  {
   "cell_type": "markdown",
   "metadata": {},
   "source": [
    "## BertForSequenceClassification - predict sentiment for each aspects identified\n",
    "- performance no good"
   ]
  },
  {
   "cell_type": "code",
   "execution_count": 31,
   "metadata": {},
   "outputs": [
    {
     "name": "stderr",
     "output_type": "stream",
     "text": [
      "A parameter name that contains `beta` will be renamed internally to `bias`. Please use a different name to suppress this warning.\n",
      "A parameter name that contains `gamma` will be renamed internally to `weight`. Please use a different name to suppress this warning.\n",
      "A parameter name that contains `beta` will be renamed internally to `bias`. Please use a different name to suppress this warning.\n",
      "A parameter name that contains `gamma` will be renamed internally to `weight`. Please use a different name to suppress this warning.\n",
      "A parameter name that contains `beta` will be renamed internally to `bias`. Please use a different name to suppress this warning.\n",
      "A parameter name that contains `gamma` will be renamed internally to `weight`. Please use a different name to suppress this warning.\n",
      "A parameter name that contains `beta` will be renamed internally to `bias`. Please use a different name to suppress this warning.\n",
      "A parameter name that contains `gamma` will be renamed internally to `weight`. Please use a different name to suppress this warning.\n",
      "A parameter name that contains `beta` will be renamed internally to `bias`. Please use a different name to suppress this warning.\n",
      "A parameter name that contains `gamma` will be renamed internally to `weight`. Please use a different name to suppress this warning.\n",
      "A parameter name that contains `beta` will be renamed internally to `bias`. Please use a different name to suppress this warning.\n",
      "A parameter name that contains `gamma` will be renamed internally to `weight`. Please use a different name to suppress this warning.\n",
      "A parameter name that contains `beta` will be renamed internally to `bias`. Please use a different name to suppress this warning.\n",
      "A parameter name that contains `gamma` will be renamed internally to `weight`. Please use a different name to suppress this warning.\n",
      "A parameter name that contains `beta` will be renamed internally to `bias`. Please use a different name to suppress this warning.\n",
      "A parameter name that contains `gamma` will be renamed internally to `weight`. Please use a different name to suppress this warning.\n",
      "A parameter name that contains `beta` will be renamed internally to `bias`. Please use a different name to suppress this warning.\n",
      "A parameter name that contains `gamma` will be renamed internally to `weight`. Please use a different name to suppress this warning.\n",
      "A parameter name that contains `beta` will be renamed internally to `bias`. Please use a different name to suppress this warning.\n",
      "A parameter name that contains `gamma` will be renamed internally to `weight`. Please use a different name to suppress this warning.\n",
      "A parameter name that contains `beta` will be renamed internally to `bias`. Please use a different name to suppress this warning.\n",
      "A parameter name that contains `gamma` will be renamed internally to `weight`. Please use a different name to suppress this warning.\n",
      "A parameter name that contains `beta` will be renamed internally to `bias`. Please use a different name to suppress this warning.\n",
      "A parameter name that contains `gamma` will be renamed internally to `weight`. Please use a different name to suppress this warning.\n",
      "A parameter name that contains `beta` will be renamed internally to `bias`. Please use a different name to suppress this warning.\n",
      "A parameter name that contains `gamma` will be renamed internally to `weight`. Please use a different name to suppress this warning.\n",
      "A parameter name that contains `beta` will be renamed internally to `bias`. Please use a different name to suppress this warning.\n",
      "A parameter name that contains `gamma` will be renamed internally to `weight`. Please use a different name to suppress this warning.\n",
      "A parameter name that contains `beta` will be renamed internally to `bias`. Please use a different name to suppress this warning.\n",
      "A parameter name that contains `gamma` will be renamed internally to `weight`. Please use a different name to suppress this warning.\n",
      "A parameter name that contains `beta` will be renamed internally to `bias`. Please use a different name to suppress this warning.\n",
      "A parameter name that contains `gamma` will be renamed internally to `weight`. Please use a different name to suppress this warning.\n",
      "A parameter name that contains `beta` will be renamed internally to `bias`. Please use a different name to suppress this warning.\n",
      "A parameter name that contains `gamma` will be renamed internally to `weight`. Please use a different name to suppress this warning.\n",
      "A parameter name that contains `beta` will be renamed internally to `bias`. Please use a different name to suppress this warning.\n",
      "A parameter name that contains `gamma` will be renamed internally to `weight`. Please use a different name to suppress this warning.\n",
      "A parameter name that contains `beta` will be renamed internally to `bias`. Please use a different name to suppress this warning.\n",
      "A parameter name that contains `gamma` will be renamed internally to `weight`. Please use a different name to suppress this warning.\n",
      "A parameter name that contains `beta` will be renamed internally to `bias`. Please use a different name to suppress this warning.\n",
      "A parameter name that contains `gamma` will be renamed internally to `weight`. Please use a different name to suppress this warning.\n",
      "A parameter name that contains `beta` will be renamed internally to `bias`. Please use a different name to suppress this warning.\n",
      "A parameter name that contains `gamma` will be renamed internally to `weight`. Please use a different name to suppress this warning.\n",
      "A parameter name that contains `beta` will be renamed internally to `bias`. Please use a different name to suppress this warning.\n",
      "A parameter name that contains `gamma` will be renamed internally to `weight`. Please use a different name to suppress this warning.\n",
      "A parameter name that contains `beta` will be renamed internally to `bias`. Please use a different name to suppress this warning.\n",
      "A parameter name that contains `gamma` will be renamed internally to `weight`. Please use a different name to suppress this warning.\n",
      "A parameter name that contains `beta` will be renamed internally to `bias`. Please use a different name to suppress this warning.\n",
      "A parameter name that contains `gamma` will be renamed internally to `weight`. Please use a different name to suppress this warning.\n",
      "A parameter name that contains `beta` will be renamed internally to `bias`. Please use a different name to suppress this warning.\n",
      "A parameter name that contains `gamma` will be renamed internally to `weight`. Please use a different name to suppress this warning.\n",
      "A parameter name that contains `beta` will be renamed internally to `bias`. Please use a different name to suppress this warning.\n",
      "A parameter name that contains `gamma` will be renamed internally to `weight`. Please use a different name to suppress this warning.\n",
      "Some weights of BertForSequenceClassification were not initialized from the model checkpoint at bert-base-uncased and are newly initialized: ['classifier.bias', 'classifier.weight']\n",
      "You should probably TRAIN this model on a down-stream task to be able to use it for predictions and inference.\n"
     ]
    },
    {
     "name": "stdout",
     "output_type": "stream",
     "text": [
      "The quality is good but the price is expensive., [quality] [sentiment: negative]\n",
      "The quality is good but the price is expensive., [price] [sentiment: negative]\n"
     ]
    }
   ],
   "source": [
    "import torch\n",
    "from transformers import BertTokenizer, BertForSequenceClassification\n",
    "\n",
    "# Load the BERT model and tokenizer\n",
    "model_name = 'bert-base-uncased'\n",
    "tokenizer = BertTokenizer.from_pretrained(model_name)\n",
    "model = BertForSequenceClassification.from_pretrained(model_name)\n",
    "\n",
    "# Define a function to extract sentiment for a review\n",
    "def extract_sentiment(review, aspects):\n",
    "    # Prepare input for the model\n",
    "    input_texts = [f'{aspect}: {review}' for aspect in aspects]\n",
    "    inputs = tokenizer(input_texts, return_tensors='pt', padding=True, truncation=True)\n",
    "    \n",
    "    # Perform inference\n",
    "    with torch.no_grad():\n",
    "        outputs = model(**inputs)\n",
    "    \n",
    "    # Get predictions\n",
    "    predictions = torch.argmax(outputs.logits, dim=-1).tolist()\n",
    "\n",
    "    # Convert predictions to sentiment labels\n",
    "    sentiment_labels = ['negative', 'neutral', 'positive']\n",
    "    results = []\n",
    "\n",
    "    for aspect, pred in zip(aspects, predictions):\n",
    "        sentiment = sentiment_labels[pred]\n",
    "        results.append(f'{review}, [{aspect}] [sentiment: {sentiment}]')\n",
    "\n",
    "    return results\n",
    "\n",
    "# Example usage\n",
    "review = \"The quality is good but the price is expensive.\"\n",
    "aspects = [\"quality\", \"price\"]\n",
    "\n",
    "# Extract sentiments for the given review and aspects\n",
    "sentiment_results = extract_sentiment(review, aspects)\n",
    "for result in sentiment_results:\n",
    "    print(result)\n"
   ]
  },
  {
   "cell_type": "code",
   "execution_count": 32,
   "metadata": {},
   "outputs": [
    {
     "name": "stdout",
     "output_type": "stream",
     "text": [
      "Fast ship good price. It's a shame I had to order this from another walmart and not my local store., [Price] [sentiment: negative]\n",
      "Fast ship good price. It's a shame I had to order this from another walmart and not my local store., [Delivery] [sentiment: negative]\n"
     ]
    }
   ],
   "source": [
    "# Example usage\n",
    "review = \"Fast ship good price. It's a shame I had to order this from another walmart and not my local store.\"\n",
    "aspects = ['Price', 'Delivery']\n",
    "\n",
    "# Extract sentiments for the given review and aspects\n",
    "sentiment_results = extract_sentiment(review, aspects)\n",
    "for result in sentiment_results:\n",
    "    print(result)"
   ]
  },
  {
   "cell_type": "markdown",
   "metadata": {},
   "source": [
    "# Distilbert for QA"
   ]
  },
  {
   "cell_type": "code",
   "execution_count": 60,
   "metadata": {},
   "outputs": [
    {
     "name": "stderr",
     "output_type": "stream",
     "text": [
      "Some weights of DistilBertForQuestionAnswering were not initialized from the model checkpoint at distilbert-base-uncased and are newly initialized: ['qa_outputs.bias', 'qa_outputs.weight']\n",
      "You should probably TRAIN this model on a down-stream task to be able to use it for predictions and inference.\n"
     ]
    },
    {
     "name": "stdout",
     "output_type": "stream",
     "text": [
      "Sentiment expression for 'quality': \n",
      "Sentiment expression for 'price': [SEP]\n"
     ]
    }
   ],
   "source": [
    "import torch\n",
    "from transformers import DistilBertTokenizer, DistilBertForQuestionAnswering\n",
    "\n",
    "# Load the DistilBERT tokenizer and model\n",
    "tokenizer = DistilBertTokenizer.from_pretrained('distilbert-base-uncased')\n",
    "model = DistilBertForQuestionAnswering.from_pretrained('distilbert-base-uncased')\n",
    "\n",
    "# Function to extract sentiment expression using prompt engineering\n",
    "def extract_sentiment_expression(review, aspect):\n",
    "    # Construct the question based on the aspect\n",
    "    question = f\"What is the sentiment expression for the aspect '{aspect}'?\"\n",
    "    \n",
    "    # Tokenize the input (question and review)\n",
    "    inputs = tokenizer(question, review, return_tensors='pt', truncation=True)\n",
    "\n",
    "    # Move tensors to the GPU if available\n",
    "    if torch.cuda.is_available():\n",
    "        inputs = {key: val.to('cuda') for key, val in inputs.items()}\n",
    "        model.to('cuda')\n",
    "\n",
    "    # Get model predictions\n",
    "    with torch.no_grad():\n",
    "        outputs = model(**inputs)\n",
    "    \n",
    "    # Get the start and end logits for the answer\n",
    "    start_logits = outputs.start_logits\n",
    "    end_logits = outputs.end_logits\n",
    "\n",
    "    # Get the predicted start and end token indices\n",
    "    start_index = torch.argmax(start_logits)\n",
    "    end_index = torch.argmax(end_logits) + 1  # +1 because we want to include the end token\n",
    "\n",
    "    # Convert tokens to words\n",
    "    tokens = tokenizer.convert_ids_to_tokens(inputs['input_ids'][0])\n",
    "    \n",
    "    # Extract the answer based on the predicted indices\n",
    "    answer = tokens[start_index:end_index]\n",
    "    \n",
    "    # Convert token list back to string\n",
    "    sentiment_expression = tokenizer.convert_tokens_to_string(answer)\n",
    "\n",
    "    return sentiment_expression.strip()\n",
    "\n",
    "# Example usage\n",
    "review = \"The quality is good but the price is expensive.\"\n",
    "aspect = \"quality\"\n",
    "\n",
    "# Extract sentiment expression for the specified aspect\n",
    "sentiment_expression = extract_sentiment_expression(review, aspect)\n",
    "print(f\"Sentiment expression for '{aspect}': {sentiment_expression}\")\n",
    "\n",
    "aspect = \"price\"\n",
    "sentiment_expression = extract_sentiment_expression(review, aspect)\n",
    "print(f\"Sentiment expression for '{aspect}': {sentiment_expression}\")\n"
   ]
  },
  {
   "cell_type": "markdown",
   "metadata": {},
   "source": [
    "# Q&A \n",
    "- several not found\n",
    "- if sentence too long, will fail"
   ]
  },
  {
   "cell_type": "code",
   "execution_count": 4,
   "metadata": {},
   "outputs": [
    {
     "name": "stderr",
     "output_type": "stream",
     "text": [
      "No model was supplied, defaulted to distilbert/distilbert-base-cased-distilled-squad and revision 626af31 (https://huggingface.co/distilbert/distilbert-base-cased-distilled-squad).\n",
      "Using a pipeline without specifying a model name and revision in production is not recommended.\n"
     ]
    },
    {
     "name": "stdout",
     "output_type": "stream",
     "text": [
      "Review: 'The quality is good but the price is expensive.' => Sentiment Expressions: {'quality': 'good', 'price': 'expensive'}\n"
     ]
    }
   ],
   "source": [
    "from transformers import pipeline\n",
    "import torch\n",
    "\n",
    "# Check if GPU is available and set the device accordingly\n",
    "device = 0 if torch.cuda.is_available() else -1\n",
    "\n",
    "# Load a pre-trained question-answering model with GPU support if available\n",
    "qa_pipeline = pipeline(\"question-answering\", device=device)\n",
    "\n",
    "def extract_sentiment_expression_qa(review, aspects):\n",
    "    # Store the answers\n",
    "    answers = {}\n",
    "\n",
    "    # Iterate over the provided aspects to construct questions\n",
    "    for aspect in aspects:\n",
    "        question = f\"What is the sentiment expression for the aspect '{aspect}'?\"\n",
    "        \n",
    "        # Use the QA pipeline to find the answer to the question\n",
    "        result = qa_pipeline(question=question, context=review)\n",
    "        \n",
    "        # Store the answer if the confidence score is above a threshold\n",
    "        answers[aspect] = result['answer'] if result['score'] > 0.5 else \"Not found\"\n",
    "\n",
    "    return answers\n",
    "\n",
    "# Example reviews and aspects\n",
    "review = \"The quality is good but the price is expensive.\"\n",
    "aspects = [\"quality\", \"price\"]\n",
    "\n",
    "# Extract sentiment expressions for the review and specified aspects\n",
    "sentiment_expressions = extract_sentiment_expression_qa(review, aspects)\n",
    "print(f\"Review: '{review}' => Sentiment Expressions: {sentiment_expressions}\")\n"
   ]
  },
  {
   "cell_type": "code",
   "execution_count": 5,
   "metadata": {},
   "outputs": [
    {
     "name": "stdout",
     "output_type": "stream",
     "text": [
      "Review: 'Fast ship good price. It's a shame I had to order this from another walmart and not my local store' => Sentiment Expressions: {'Price': 'shame', 'Delivery': 'a shame'}\n"
     ]
    }
   ],
   "source": [
    "# if using 0.5 - both not found\n",
    "# if using 0.2 - wrong sentiment\n",
    "# # Example reviews and aspects\n",
    "review = \"Fast ship good price. It's a shame I had to order this from another walmart and not my local store\"\n",
    "aspects = ['Price', 'Delivery']\n",
    "\n",
    "# Extract sentiment expressions for the review and specified aspects\n",
    "sentiment_expressions = extract_sentiment_expression_qa(review, aspects)\n",
    "print(f\"Review: '{review}' => Sentiment Expressions: {sentiment_expressions}\")\n"
   ]
  },
  {
   "cell_type": "code",
   "execution_count": 44,
   "metadata": {},
   "outputs": [
    {
     "name": "stdout",
     "output_type": "stream",
     "text": [
      "Review: 'Fast ship good price. It's a shame I had to order this from another walmart and not my local store' => Sentiment Expressions: {'Price': 'Not found', 'Ship': 'Not found'}\n"
     ]
    }
   ],
   "source": [
    "# Example reviews and aspects\n",
    "review = \"Fast ship good price. It's a shame I had to order this from another walmart and not my local store\"\n",
    "aspects = ['Price', 'Ship']\n",
    "\n",
    "# Extract sentiment expressions for the review and specified aspects\n",
    "sentiment_expressions = extract_sentiment_expression_qa(review, aspects)\n",
    "print(f\"Review: '{review}' => Sentiment Expressions: {sentiment_expressions}\")\n"
   ]
  },
  {
   "cell_type": "code",
   "execution_count": 41,
   "metadata": {},
   "outputs": [
    {
     "name": "stdout",
     "output_type": "stream",
     "text": [
      "Review: 'I have always been able to get my ink from Walmart even when other places have been out of stock .  The price has gone up a little bit but still the best price in town for ink cartridge.' => Sentiment Expressions: {'Price': 'Not found'}\n"
     ]
    }
   ],
   "source": [
    "# Example reviews and aspects\n",
    "review = \"I have always been able to get my ink from Walmart even when other places have been out of stock .  The price has gone up a little bit but still the best price in town for ink cartridge.\"\n",
    "aspects = ['Price']\n",
    "\n",
    "# Extract sentiment expressions for the review and specified aspects\n",
    "sentiment_expressions = extract_sentiment_expression_qa(review, aspects)\n",
    "print(f\"Review: '{review}' => Sentiment Expressions: {sentiment_expressions}\")\n"
   ]
  },
  {
   "cell_type": "code",
   "execution_count": 45,
   "metadata": {},
   "outputs": [
    {
     "name": "stdout",
     "output_type": "stream",
     "text": [
      "Review: 'Price is right and can't beat free shipping. HP ink cartridges are the best!' => Sentiment Expressions: {'Price': 'right'}\n"
     ]
    }
   ],
   "source": [
    "# Example reviews and aspects\n",
    "review = \"Price is right and can't beat free shipping. HP ink cartridges are the best!\"\n",
    "aspects = ['Price']\n",
    "\n",
    "# Extract sentiment expressions for the review and specified aspects\n",
    "sentiment_expressions = extract_sentiment_expression_qa(review, aspects)\n",
    "print(f\"Review: '{review}' => Sentiment Expressions: {sentiment_expressions}\")\n"
   ]
  },
  {
   "cell_type": "code",
   "execution_count": 46,
   "metadata": {},
   "outputs": [
    {
     "name": "stdout",
     "output_type": "stream",
     "text": [
      "Review: 'Iâ€™ve been a faithful customer with more than one hp printer and instant ink subscription for at least five years. My hp printers constantly went offline and required a ridiculous amount of time spent each time to get them back online.  I work from home and although I enjoyed the convenience of having the instant ink delivered to my house, the constant issues with my printers, which took up a great deal of my working time more than I wanted to also once I really sat down and took the time to look at the expense of my instant subscription I think I was being ripped off. Completely not worth it.' => Sentiment Expressions: {'Price': 'Not found'}\n"
     ]
    }
   ],
   "source": [
    "# Example reviews and aspects\n",
    "review = \"Iâ€™ve been a faithful customer with more than one hp printer and instant ink subscription for at least five years. My hp printers constantly went offline and required a ridiculous amount of time spent each time to get them back online.  I work from home and although I enjoyed the convenience of having the instant ink delivered to my house, the constant issues with my printers, which took up a great deal of my working time more than I wanted to also once I really sat down and took the time to look at the expense of my instant subscription I think I was being ripped off. Completely not worth it.\"\n",
    "aspects = ['Price']\n",
    "\n",
    "# Extract sentiment expressions for the review and specified aspects\n",
    "sentiment_expressions = extract_sentiment_expression_qa(review, aspects)\n",
    "print(f\"Review: '{review}' => Sentiment Expressions: {sentiment_expressions}\")\n"
   ]
  },
  {
   "cell_type": "markdown",
   "metadata": {},
   "source": [
    "# T5 model - prompt engineering w/o fine-tuning"
   ]
  },
  {
   "cell_type": "code",
   "execution_count": 7,
   "metadata": {},
   "outputs": [
    {
     "name": "stdout",
     "output_type": "stream",
     "text": [
      "Review: 'The quality is good but the price is expensive.' => Sentiment Expressions: {'quality': \"What is the sentiment of the aspect 'quality' in the following review: 'The quality is good but the price is expensive'?\", 'price': \"What is the sentiment of the aspect 'price' in the following review: 'The quality is good but the price is expensive'?\"}\n"
     ]
    }
   ],
   "source": [
    "from transformers import T5ForConditionalGeneration, T5Tokenizer\n",
    "\n",
    "# Load pre-trained T5 model and tokenizer (new tokenizer behavior with legacy=False)\n",
    "model = T5ForConditionalGeneration.from_pretrained('t5-small')\n",
    "tokenizer = T5Tokenizer.from_pretrained('t5-small', legacy=False)\n",
    "\n",
    "def extract_sentiment_t5(review, aspects):\n",
    "    # Store the generated sentiment expressions\n",
    "    sentiment_expressions = {}\n",
    "\n",
    "    # Iterate over the provided aspects to construct prompts\n",
    "    for aspect in aspects:\n",
    "        # Update the prompt to be clearer and directly request sentiment extraction\n",
    "        prompt = f\"What is the sentiment of the aspect '{aspect}' in the following review: '{review}'?\"\n",
    "        \n",
    "        # Tokenize the input text\n",
    "        input_ids = tokenizer.encode(prompt, return_tensors='pt')\n",
    "        \n",
    "        # Generate the output using the T5 model\n",
    "        outputs = model.generate(input_ids, max_length=50, num_beams=4, early_stopping=True)\n",
    "        \n",
    "        # Decode the generated response\n",
    "        sentiment = tokenizer.decode(outputs[0], skip_special_tokens=True)\n",
    "        \n",
    "        # Store the sentiment expression\n",
    "        sentiment_expressions[aspect] = sentiment\n",
    "    \n",
    "    return sentiment_expressions\n",
    "\n",
    "# Example reviews and aspects\n",
    "review = \"The quality is good but the price is expensive.\"\n",
    "aspects = [\"quality\", \"price\"]\n",
    "\n",
    "# Extract sentiment expressions for the review and specified aspects\n",
    "sentiment_expressions = extract_sentiment_t5(review, aspects)\n",
    "print(f\"Review: '{review}' => Sentiment Expressions: {sentiment_expressions}\")\n"
   ]
  }
 ],
 "metadata": {
  "kernelspec": {
   "display_name": "Python 3",
   "language": "python",
   "name": "python3"
  },
  "language_info": {
   "codemirror_mode": {
    "name": "ipython",
    "version": 3
   },
   "file_extension": ".py",
   "mimetype": "text/x-python",
   "name": "python",
   "nbconvert_exporter": "python",
   "pygments_lexer": "ipython3",
   "version": "3.12.7"
  }
 },
 "nbformat": 4,
 "nbformat_minor": 2
}
